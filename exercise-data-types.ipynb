{
 "cells": [
  {
   "cell_type": "markdown",
   "id": "c5dda1e6",
   "metadata": {
    "papermill": {
     "duration": 0.008985,
     "end_time": "2024-01-10T09:22:19.432210",
     "exception": false,
     "start_time": "2024-01-10T09:22:19.423225",
     "status": "completed"
    },
    "tags": []
   },
   "source": [
    "**This notebook is an exercise in the [Intro to Programming](https://www.kaggle.com/learn/intro-to-programming) course.  You can reference the tutorial at [this link](https://www.kaggle.com/alexisbcook/data-types).**\n",
    "\n",
    "---\n"
   ]
  },
  {
   "cell_type": "markdown",
   "id": "4261254e",
   "metadata": {
    "papermill": {
     "duration": 0.008329,
     "end_time": "2024-01-10T09:22:19.449187",
     "exception": false,
     "start_time": "2024-01-10T09:22:19.440858",
     "status": "completed"
    },
    "tags": []
   },
   "source": [
    "In the tutorial, you learned about four different data types: floats, integers, strings, and booleans.  In this exercise, you'll experiment with them.\n",
    "\n",
    "# Set up the notebook\n",
    "\n",
    "Run the next code cell without changes to set up the notebook."
   ]
  },
  {
   "cell_type": "code",
   "execution_count": 1,
   "id": "fa48a32a",
   "metadata": {
    "execution": {
     "iopub.execute_input": "2024-01-10T09:22:19.468560Z",
     "iopub.status.busy": "2024-01-10T09:22:19.467786Z",
     "iopub.status.idle": "2024-01-10T09:22:19.955307Z",
     "shell.execute_reply": "2024-01-10T09:22:19.953968Z"
    },
    "papermill": {
     "duration": 0.500405,
     "end_time": "2024-01-10T09:22:19.958024",
     "exception": false,
     "start_time": "2024-01-10T09:22:19.457619",
     "status": "completed"
    },
    "tags": []
   },
   "outputs": [
    {
     "name": "stdout",
     "output_type": "stream",
     "text": [
      "Setup complete.\n"
     ]
    }
   ],
   "source": [
    "# Set up the exercise\n",
    "from learntools.core import binder\n",
    "binder.bind(globals())\n",
    "from learntools.intro_to_programming.ex3 import *\n",
    "print('Setup complete.')"
   ]
  },
  {
   "cell_type": "markdown",
   "id": "310647ff",
   "metadata": {
    "papermill": {
     "duration": 0.008683,
     "end_time": "2024-01-10T09:22:19.975718",
     "exception": false,
     "start_time": "2024-01-10T09:22:19.967035",
     "status": "completed"
    },
    "tags": []
   },
   "source": [
    "# Question 1\n",
    "\n",
    "You have seen how to convert a float to an integer with the `int` function.  Try this out yourself by running the code cell below."
   ]
  },
  {
   "cell_type": "code",
   "execution_count": 2,
   "id": "6a7370bf",
   "metadata": {
    "execution": {
     "iopub.execute_input": "2024-01-10T09:22:19.996107Z",
     "iopub.status.busy": "2024-01-10T09:22:19.995219Z",
     "iopub.status.idle": "2024-01-10T09:22:20.002384Z",
     "shell.execute_reply": "2024-01-10T09:22:20.000778Z"
    },
    "papermill": {
     "duration": 0.020266,
     "end_time": "2024-01-10T09:22:20.004964",
     "exception": false,
     "start_time": "2024-01-10T09:22:19.984698",
     "status": "completed"
    },
    "tags": []
   },
   "outputs": [
    {
     "name": "stdout",
     "output_type": "stream",
     "text": [
      "1.0\n",
      "<class 'float'>\n",
      "1\n",
      "<class 'int'>\n"
     ]
    }
   ],
   "source": [
    "# Define a float\n",
    "y = 1.\n",
    "print(y)\n",
    "print(type(y))\n",
    "\n",
    "# Convert float to integer with the int function\n",
    "z = int(y)\n",
    "print(z)\n",
    "print(type(z))"
   ]
  },
  {
   "cell_type": "markdown",
   "id": "eaaf1794",
   "metadata": {
    "papermill": {
     "duration": 0.00856,
     "end_time": "2024-01-10T09:22:20.022586",
     "exception": false,
     "start_time": "2024-01-10T09:22:20.014026",
     "status": "completed"
    },
    "tags": []
   },
   "source": [
    "In this case, the float you are using has no numbers after the decimal.  \n",
    "- But what happens when you try to convert a float with a fractional part to an integer?  \n",
    "- How does the outcome of the `int` function change for positive and negative numbers?\n",
    "\n",
    "Use the next code cell to investigate and answer these questions.  Feel free to add or remove any lines of code -- it is your workspace!"
   ]
  },
  {
   "cell_type": "code",
   "execution_count": 3,
   "id": "75960181",
   "metadata": {
    "execution": {
     "iopub.execute_input": "2024-01-10T09:22:20.042530Z",
     "iopub.status.busy": "2024-01-10T09:22:20.041564Z",
     "iopub.status.idle": "2024-01-10T09:22:20.047948Z",
     "shell.execute_reply": "2024-01-10T09:22:20.046799Z"
    },
    "papermill": {
     "duration": 0.018759,
     "end_time": "2024-01-10T09:22:20.050228",
     "exception": false,
     "start_time": "2024-01-10T09:22:20.031469",
     "status": "completed"
    },
    "tags": []
   },
   "outputs": [
    {
     "name": "stdout",
     "output_type": "stream",
     "text": [
      "1\n",
      "1\n",
      "-3\n",
      "-2\n"
     ]
    }
   ],
   "source": [
    "# Uncomment and run this code to get started!\n",
    "print(int(1.2321))\n",
    "print(int(1.747))\n",
    "print(int(-3.94535))\n",
    "print(int(-2.19774))"
   ]
  },
  {
   "cell_type": "markdown",
   "id": "b87a5a89",
   "metadata": {
    "papermill": {
     "duration": 0.009155,
     "end_time": "2024-01-10T09:22:20.068351",
     "exception": false,
     "start_time": "2024-01-10T09:22:20.059196",
     "status": "completed"
    },
    "tags": []
   },
   "source": [
    "Once you have an answer, run the code cell below to see the solution.  Viewing the solution will give you credit for answering the problem."
   ]
  },
  {
   "cell_type": "code",
   "execution_count": 4,
   "id": "a7e4a2a6",
   "metadata": {
    "execution": {
     "iopub.execute_input": "2024-01-10T09:22:20.088521Z",
     "iopub.status.busy": "2024-01-10T09:22:20.088121Z",
     "iopub.status.idle": "2024-01-10T09:22:20.098002Z",
     "shell.execute_reply": "2024-01-10T09:22:20.096993Z"
    },
    "papermill": {
     "duration": 0.022697,
     "end_time": "2024-01-10T09:22:20.100195",
     "exception": false,
     "start_time": "2024-01-10T09:22:20.077498",
     "status": "completed"
    },
    "tags": []
   },
   "outputs": [
    {
     "data": {
      "application/javascript": [
       "parent.postMessage({\"jupyterEvent\": \"custom.exercise_interaction\", \"data\": {\"outcomeType\": 1, \"valueTowardsCompletion\": 0.2, \"interactionType\": 1, \"questionType\": 4, \"questionId\": \"1_FloatToInt\", \"learnToolsVersion\": \"0.3.4\", \"failureMessage\": \"\", \"exceptionClass\": \"\", \"trace\": \"\"}}, \"*\")"
      ],
      "text/plain": [
       "<IPython.core.display.Javascript object>"
      ]
     },
     "metadata": {},
     "output_type": "display_data"
    },
    {
     "data": {
      "text/markdown": [
       "<span style=\"color:#33cc33\">Correct:</span> \n",
       "\n",
       "Negative floats are always rounded UP to the closest integer (for instance, both -1.1 and -1.9 are rounded up to -1). Positive floats are always rounded DOWN to the closest integer (for instance, 2.1 and 2.9 are rounded down to 2)."
      ],
      "text/plain": [
       "Correct: \n",
       "\n",
       "Negative floats are always rounded UP to the closest integer (for instance, both -1.1 and -1.9 are rounded up to -1). Positive floats are always rounded DOWN to the closest integer (for instance, 2.1 and 2.9 are rounded down to 2)."
      ]
     },
     "metadata": {},
     "output_type": "display_data"
    }
   ],
   "source": [
    "# Check your answer (Run this code cell to receive credit!)\n",
    "q1.check()"
   ]
  },
  {
   "cell_type": "markdown",
   "id": "a08cc33e",
   "metadata": {
    "papermill": {
     "duration": 0.008888,
     "end_time": "2024-01-10T09:22:20.118451",
     "exception": false,
     "start_time": "2024-01-10T09:22:20.109563",
     "status": "completed"
    },
    "tags": []
   },
   "source": [
    "# Question 2\n",
    "\n",
    "In the tutorial, you learned about booleans (which can take a value of `True` or `False`), in addition to integers, floats, and strings.  For this question, your goal is to determine what happens when you multiply a boolean by any of these data types.  Specifically, \n",
    "- What happens when you multiply an integer or float by `True`?  What happens when you multiply them by `False`?  How does the answer change if the numbers are positive or negative?\n",
    "- What happens when you multiply a string by `True`?  By `False`?\n",
    "\n",
    "Use the next code cell for your investigation. "
   ]
  },
  {
   "cell_type": "code",
   "execution_count": 5,
   "id": "1694e902",
   "metadata": {
    "execution": {
     "iopub.execute_input": "2024-01-10T09:22:20.139223Z",
     "iopub.status.busy": "2024-01-10T09:22:20.138413Z",
     "iopub.status.idle": "2024-01-10T09:22:20.145254Z",
     "shell.execute_reply": "2024-01-10T09:22:20.143905Z"
    },
    "papermill": {
     "duration": 0.019763,
     "end_time": "2024-01-10T09:22:20.147490",
     "exception": false,
     "start_time": "2024-01-10T09:22:20.127727",
     "status": "completed"
    },
    "tags": []
   },
   "outputs": [
    {
     "name": "stdout",
     "output_type": "stream",
     "text": [
      "3\n",
      "-3.1\n",
      "<class 'str'>\n",
      "0\n"
     ]
    }
   ],
   "source": [
    "# Uncomment and run this code to get started!\n",
    "print(3 * True)\n",
    "print(-3.1 * True)\n",
    "print(type(\"abc\" * False))\n",
    "print(len(\"abc\" * False))"
   ]
  },
  {
   "cell_type": "markdown",
   "id": "ca29b137",
   "metadata": {
    "papermill": {
     "duration": 0.009015,
     "end_time": "2024-01-10T09:22:20.165880",
     "exception": false,
     "start_time": "2024-01-10T09:22:20.156865",
     "status": "completed"
    },
    "tags": []
   },
   "source": [
    "Once you have an answer, run the code cell below to see the solution.  Viewing the solution will give you credit for answering the problem."
   ]
  },
  {
   "cell_type": "code",
   "execution_count": 6,
   "id": "fbfdbd86",
   "metadata": {
    "execution": {
     "iopub.execute_input": "2024-01-10T09:22:20.187011Z",
     "iopub.status.busy": "2024-01-10T09:22:20.185766Z",
     "iopub.status.idle": "2024-01-10T09:22:20.195034Z",
     "shell.execute_reply": "2024-01-10T09:22:20.193953Z"
    },
    "papermill": {
     "duration": 0.022109,
     "end_time": "2024-01-10T09:22:20.197356",
     "exception": false,
     "start_time": "2024-01-10T09:22:20.175247",
     "status": "completed"
    },
    "tags": []
   },
   "outputs": [
    {
     "data": {
      "application/javascript": [
       "parent.postMessage({\"jupyterEvent\": \"custom.exercise_interaction\", \"data\": {\"outcomeType\": 1, \"valueTowardsCompletion\": 0.2, \"interactionType\": 1, \"questionType\": 4, \"questionId\": \"2_MultiplyBooleans\", \"learnToolsVersion\": \"0.3.4\", \"failureMessage\": \"\", \"exceptionClass\": \"\", \"trace\": \"\"}}, \"*\")"
      ],
      "text/plain": [
       "<IPython.core.display.Javascript object>"
      ]
     },
     "metadata": {},
     "output_type": "display_data"
    },
    {
     "data": {
      "text/markdown": [
       "<span style=\"color:#33cc33\">Correct:</span> \n",
       "\n",
       "When you multiple an integer or float by a boolean with value `True`, it just returns that same integer or float (and is equivalent to multiplying by 1).  If you multiply an integer or float by a boolean with value `False`, it always returns 0.  This is true for both positive and negative numbers.  If you multiply a string by a boolean with value `True`, it just returns that same string.  And if you multiply a string by a boolean with value `False`, it returns an empty string (or a string with length zero)."
      ],
      "text/plain": [
       "Correct: \n",
       "\n",
       "When you multiple an integer or float by a boolean with value `True`, it just returns that same integer or float (and is equivalent to multiplying by 1).  If you multiply an integer or float by a boolean with value `False`, it always returns 0.  This is true for both positive and negative numbers.  If you multiply a string by a boolean with value `True`, it just returns that same string.  And if you multiply a string by a boolean with value `False`, it returns an empty string (or a string with length zero)."
      ]
     },
     "metadata": {},
     "output_type": "display_data"
    }
   ],
   "source": [
    "# Check your answer (Run this code cell to receive credit!)\n",
    "q2.check()"
   ]
  },
  {
   "cell_type": "markdown",
   "id": "e2035db2",
   "metadata": {
    "papermill": {
     "duration": 0.009437,
     "end_time": "2024-01-10T09:22:20.216636",
     "exception": false,
     "start_time": "2024-01-10T09:22:20.207199",
     "status": "completed"
    },
    "tags": []
   },
   "source": [
    "# Question 3\n",
    "\n",
    "In this question, you will build off your work from the previous exercise to write a function that estimates the value of a house.\n",
    "\n",
    "Use the next code cell to create a function `get_expected_cost` that takes as input three variables:\n",
    "- `beds` - number of bedrooms (data type float)\n",
    "- `baths` - number of bathrooms (data type float)\n",
    "- `has_basement` - whether or not the house has a basement (data type boolean)\n",
    "\n",
    "It should return the expected cost of a house with those characteristics. Assume that:\n",
    "- the expected cost for a house with 0 bedrooms and 0 bathrooms, and no basement is 80000, \n",
    "- each bedroom adds 30000 to the expected cost,\n",
    "- each bathroom adds 10000 to the expected cost, and\n",
    "- a basement adds 40000 to the expected cost.\n",
    "\n",
    "For instance,\n",
    "- a house with 1 bedroom, 1 bathroom, and no basement has an expected cost of 80000 + 30000 + 10000 = 120000.  This value will be calculated with `get_expected_cost(1, 1, False)`.\n",
    "- a house with 2 bedrooms, 1 bathroom, and a basement has an expected cost of 80000 + 2*30000 + 10000 + 40000 = 190000.  This value will be calculated with `get_expected_cost(2, 1, True)`.\n",
    "\n",
    "Remember you can always get a hint by uncommenting `q3.hint()` in the code cell following the next!"
   ]
  },
  {
   "cell_type": "code",
   "execution_count": 7,
   "id": "b5738ec7",
   "metadata": {
    "execution": {
     "iopub.execute_input": "2024-01-10T09:22:20.238108Z",
     "iopub.status.busy": "2024-01-10T09:22:20.237315Z",
     "iopub.status.idle": "2024-01-10T09:22:20.246929Z",
     "shell.execute_reply": "2024-01-10T09:22:20.245751Z"
    },
    "papermill": {
     "duration": 0.023229,
     "end_time": "2024-01-10T09:22:20.249502",
     "exception": false,
     "start_time": "2024-01-10T09:22:20.226273",
     "status": "completed"
    },
    "tags": []
   },
   "outputs": [
    {
     "data": {
      "application/javascript": [
       "parent.postMessage({\"jupyterEvent\": \"custom.exercise_interaction\", \"data\": {\"outcomeType\": 1, \"valueTowardsCompletion\": 0.2, \"interactionType\": 1, \"questionType\": 2, \"questionId\": \"3_EstimateHouseValueBool\", \"learnToolsVersion\": \"0.3.4\", \"failureMessage\": \"\", \"exceptionClass\": \"\", \"trace\": \"\"}}, \"*\")"
      ],
      "text/plain": [
       "<IPython.core.display.Javascript object>"
      ]
     },
     "metadata": {},
     "output_type": "display_data"
    },
    {
     "data": {
      "text/markdown": [
       "<span style=\"color:#33cc33\">Correct</span>"
      ],
      "text/plain": [
       "Correct"
      ]
     },
     "metadata": {},
     "output_type": "display_data"
    }
   ],
   "source": [
    "# TODO: Complete the function\n",
    "def get_expected_cost(beds, baths, has_basement):\n",
    "    value = 80000 + int(beds) * 30000 + int(baths) * 10000 + has_basement * 40000 \n",
    "    return value\n",
    "\n",
    "# Check your answer \n",
    "q3.check()"
   ]
  },
  {
   "cell_type": "code",
   "execution_count": 8,
   "id": "89bd2f2d",
   "metadata": {
    "execution": {
     "iopub.execute_input": "2024-01-10T09:22:20.274572Z",
     "iopub.status.busy": "2024-01-10T09:22:20.273802Z",
     "iopub.status.idle": "2024-01-10T09:22:20.278495Z",
     "shell.execute_reply": "2024-01-10T09:22:20.277372Z"
    },
    "papermill": {
     "duration": 0.020905,
     "end_time": "2024-01-10T09:22:20.281272",
     "exception": false,
     "start_time": "2024-01-10T09:22:20.260367",
     "status": "completed"
    },
    "tags": []
   },
   "outputs": [],
   "source": [
    "# Uncomment to see a hint\n",
    "#q3.hint()\n",
    "\n",
    "# Uncomment to view the solution\n",
    "#q3.solution()"
   ]
  },
  {
   "cell_type": "markdown",
   "id": "9dd7e85a",
   "metadata": {
    "papermill": {
     "duration": 0.009735,
     "end_time": "2024-01-10T09:22:20.301025",
     "exception": false,
     "start_time": "2024-01-10T09:22:20.291290",
     "status": "completed"
    },
    "tags": []
   },
   "source": [
    "# Question 4\n",
    "\n",
    "We'll continue our study of boolean arithmetic.  For this question, your task is to provide a description of what happpens when you add booleans. \n",
    "\n",
    "Use the next code cell for your investigation.  Feel free to add or remove any lines of code - use it as your workspace!"
   ]
  },
  {
   "cell_type": "code",
   "execution_count": 9,
   "id": "7cb45d69",
   "metadata": {
    "execution": {
     "iopub.execute_input": "2024-01-10T09:22:20.323863Z",
     "iopub.status.busy": "2024-01-10T09:22:20.323224Z",
     "iopub.status.idle": "2024-01-10T09:22:20.330177Z",
     "shell.execute_reply": "2024-01-10T09:22:20.328756Z"
    },
    "papermill": {
     "duration": 0.021264,
     "end_time": "2024-01-10T09:22:20.332614",
     "exception": false,
     "start_time": "2024-01-10T09:22:20.311350",
     "status": "completed"
    },
    "tags": []
   },
   "outputs": [
    {
     "name": "stdout",
     "output_type": "stream",
     "text": [
      "0\n",
      "1\n",
      "1\n",
      "2\n",
      "3\n"
     ]
    }
   ],
   "source": [
    "print(False + False)\n",
    "print(True + False)\n",
    "print(False + True)\n",
    "print(True + True)\n",
    "print(False + True + True + True)"
   ]
  },
  {
   "cell_type": "markdown",
   "id": "a63e6986",
   "metadata": {
    "papermill": {
     "duration": 0.009726,
     "end_time": "2024-01-10T09:22:20.352450",
     "exception": false,
     "start_time": "2024-01-10T09:22:20.342724",
     "status": "completed"
    },
    "tags": []
   },
   "source": [
    "Once you have an answer, run the code cell below to see the solution.  Viewing the solution will give you credit for answering the problem."
   ]
  },
  {
   "cell_type": "code",
   "execution_count": 10,
   "id": "c4849bc2",
   "metadata": {
    "execution": {
     "iopub.execute_input": "2024-01-10T09:22:20.374466Z",
     "iopub.status.busy": "2024-01-10T09:22:20.373714Z",
     "iopub.status.idle": "2024-01-10T09:22:20.382628Z",
     "shell.execute_reply": "2024-01-10T09:22:20.381489Z"
    },
    "papermill": {
     "duration": 0.023203,
     "end_time": "2024-01-10T09:22:20.385771",
     "exception": false,
     "start_time": "2024-01-10T09:22:20.362568",
     "status": "completed"
    },
    "tags": []
   },
   "outputs": [
    {
     "data": {
      "application/javascript": [
       "parent.postMessage({\"jupyterEvent\": \"custom.exercise_interaction\", \"data\": {\"outcomeType\": 1, \"valueTowardsCompletion\": 0.2, \"interactionType\": 1, \"questionType\": 4, \"questionId\": \"4_AddingBooleans\", \"learnToolsVersion\": \"0.3.4\", \"failureMessage\": \"\", \"exceptionClass\": \"\", \"trace\": \"\"}}, \"*\")"
      ],
      "text/plain": [
       "<IPython.core.display.Javascript object>"
      ]
     },
     "metadata": {},
     "output_type": "display_data"
    },
    {
     "data": {
      "text/markdown": [
       "<span style=\"color:#33cc33\">Correct:</span> \n",
       "\n",
       "When you add booleans, adding `False` is equivalent to adding 0, and adding `True` is equivalent to adding 1."
      ],
      "text/plain": [
       "Correct: \n",
       "\n",
       "When you add booleans, adding `False` is equivalent to adding 0, and adding `True` is equivalent to adding 1."
      ]
     },
     "metadata": {},
     "output_type": "display_data"
    }
   ],
   "source": [
    "# Check your answer (Run this code cell to receive credit!)\n",
    "q4.check()"
   ]
  },
  {
   "cell_type": "markdown",
   "id": "a0cf7676",
   "metadata": {
    "papermill": {
     "duration": 0.01032,
     "end_time": "2024-01-10T09:22:20.406706",
     "exception": false,
     "start_time": "2024-01-10T09:22:20.396386",
     "status": "completed"
    },
    "tags": []
   },
   "source": [
    "# 🌶️ Question 5\n",
    "\n",
    "You own an online shop where you sell rings with custom engravings.  You offer both gold plated and solid gold rings.\n",
    "- Gold plated rings have a base cost of \\\\$50, and you charge \\\\$7 per engraved unit.  \n",
    "- Solid gold rings have a base cost of \\\\$100, and you charge \\\\$10 per engraved unit.\n",
    "- Spaces and punctuation are counted as engraved units.\n",
    "\n",
    "Write a function `cost_of_project()` that takes two arguments:\n",
    "- `engraving` - a Python string with the text of the engraving\n",
    "- `solid_gold` - a Boolean that indicates whether the ring is solid gold\n",
    "\n",
    "It should return the cost of the project.  This question should be fairly challenging, and you may need a hint."
   ]
  },
  {
   "cell_type": "code",
   "execution_count": 11,
   "id": "0cc362ea",
   "metadata": {
    "execution": {
     "iopub.execute_input": "2024-01-10T09:22:20.430004Z",
     "iopub.status.busy": "2024-01-10T09:22:20.429582Z",
     "iopub.status.idle": "2024-01-10T09:22:20.440087Z",
     "shell.execute_reply": "2024-01-10T09:22:20.438971Z"
    },
    "papermill": {
     "duration": 0.025433,
     "end_time": "2024-01-10T09:22:20.443002",
     "exception": false,
     "start_time": "2024-01-10T09:22:20.417569",
     "status": "completed"
    },
    "tags": []
   },
   "outputs": [
    {
     "data": {
      "application/javascript": [
       "parent.postMessage({\"jupyterEvent\": \"custom.exercise_interaction\", \"data\": {\"outcomeType\": 1, \"valueTowardsCompletion\": 0.2, \"interactionType\": 1, \"questionType\": 2, \"questionId\": \"5_CustomEngravings\", \"learnToolsVersion\": \"0.3.4\", \"failureMessage\": \"\", \"exceptionClass\": \"\", \"trace\": \"\"}}, \"*\")"
      ],
      "text/plain": [
       "<IPython.core.display.Javascript object>"
      ]
     },
     "metadata": {},
     "output_type": "display_data"
    },
    {
     "data": {
      "text/markdown": [
       "<span style=\"color:#33cc33\">Correct</span>"
      ],
      "text/plain": [
       "Correct"
      ]
     },
     "metadata": {},
     "output_type": "display_data"
    }
   ],
   "source": [
    "def cost_of_project(engraving, solid_gold):\n",
    "    cost = ((10*solid_gold*len(engraving) + 100*solid_gold) + \n",
    "           (7*(not solid_gold)*len(engraving) + 50*(not solid_gold)))\n",
    "    return cost\n",
    "\n",
    "# Check your answer\n",
    "q5.check()"
   ]
  },
  {
   "cell_type": "code",
   "execution_count": 12,
   "id": "416aecfd",
   "metadata": {
    "execution": {
     "iopub.execute_input": "2024-01-10T09:22:20.466842Z",
     "iopub.status.busy": "2024-01-10T09:22:20.466438Z",
     "iopub.status.idle": "2024-01-10T09:22:20.475640Z",
     "shell.execute_reply": "2024-01-10T09:22:20.474521Z"
    },
    "papermill": {
     "duration": 0.024133,
     "end_time": "2024-01-10T09:22:20.478243",
     "exception": false,
     "start_time": "2024-01-10T09:22:20.454110",
     "status": "completed"
    },
    "tags": []
   },
   "outputs": [
    {
     "data": {
      "application/javascript": [
       "parent.postMessage({\"jupyterEvent\": \"custom.exercise_interaction\", \"data\": {\"interactionType\": 2, \"questionType\": 2, \"questionId\": \"5_CustomEngravings\", \"learnToolsVersion\": \"0.3.4\", \"valueTowardsCompletion\": 0.0, \"failureMessage\": \"\", \"exceptionClass\": \"\", \"trace\": \"\", \"outcomeType\": 4}}, \"*\")"
      ],
      "text/plain": [
       "<IPython.core.display.Javascript object>"
      ]
     },
     "metadata": {},
     "output_type": "display_data"
    },
    {
     "data": {
      "text/markdown": [
       "<span style=\"color:#3366cc\">Hint:</span> There are two options - either the project uses solid gold or does not.  With this in mind, you can structure your solution like this: `cost = solid_gold * ____ + (not solid_gold) * ____`.  You need to figure out how to fill in the blanks. Also, remember that:\n",
       "- If `solid_gold = True`, then `(not solid_gold) = False`, and if `solid_gold = False`, then `(not solid_gold) = True`.\n",
       "- Multiplying an integer by `True` is equivalent to multiplying it by 1, and multiplying an integer by `False` is equivalent to multiplying it by 0."
      ],
      "text/plain": [
       "Hint: There are two options - either the project uses solid gold or does not.  With this in mind, you can structure your solution like this: `cost = solid_gold * ____ + (not solid_gold) * ____`.  You need to figure out how to fill in the blanks. Also, remember that:\n",
       "- If `solid_gold = True`, then `(not solid_gold) = False`, and if `solid_gold = False`, then `(not solid_gold) = True`.\n",
       "- Multiplying an integer by `True` is equivalent to multiplying it by 1, and multiplying an integer by `False` is equivalent to multiplying it by 0."
      ]
     },
     "metadata": {},
     "output_type": "display_data"
    }
   ],
   "source": [
    "# Uncomment to see a hint\n",
    "q5.hint()\n",
    "\n",
    "# Uncomment to view the solution\n",
    "#q5.solution()"
   ]
  },
  {
   "cell_type": "markdown",
   "id": "147aff34",
   "metadata": {
    "papermill": {
     "duration": 0.01105,
     "end_time": "2024-01-10T09:22:20.500429",
     "exception": false,
     "start_time": "2024-01-10T09:22:20.489379",
     "status": "completed"
    },
    "tags": []
   },
   "source": [
    "Run the next code cell to calculate the cost of engraving `Charlie+Denver` on a solid gold ring."
   ]
  },
  {
   "cell_type": "code",
   "execution_count": 13,
   "id": "e8cf5c93",
   "metadata": {
    "execution": {
     "iopub.execute_input": "2024-01-10T09:22:20.524731Z",
     "iopub.status.busy": "2024-01-10T09:22:20.524324Z",
     "iopub.status.idle": "2024-01-10T09:22:20.529452Z",
     "shell.execute_reply": "2024-01-10T09:22:20.528318Z"
    },
    "papermill": {
     "duration": 0.020473,
     "end_time": "2024-01-10T09:22:20.532053",
     "exception": false,
     "start_time": "2024-01-10T09:22:20.511580",
     "status": "completed"
    },
    "tags": []
   },
   "outputs": [
    {
     "name": "stdout",
     "output_type": "stream",
     "text": [
      "240\n"
     ]
    }
   ],
   "source": [
    "project_one = cost_of_project(\"Charlie+Denver\", True)\n",
    "print(project_one)"
   ]
  },
  {
   "cell_type": "markdown",
   "id": "3fbbb9de",
   "metadata": {
    "papermill": {
     "duration": 0.011019,
     "end_time": "2024-01-10T09:22:20.554855",
     "exception": false,
     "start_time": "2024-01-10T09:22:20.543836",
     "status": "completed"
    },
    "tags": []
   },
   "source": [
    "Use the next code cell to calculate the cost of engraving `08/10/2000` on a gold plated ring."
   ]
  },
  {
   "cell_type": "code",
   "execution_count": 14,
   "id": "58ea52dd",
   "metadata": {
    "execution": {
     "iopub.execute_input": "2024-01-10T09:22:20.579986Z",
     "iopub.status.busy": "2024-01-10T09:22:20.579073Z",
     "iopub.status.idle": "2024-01-10T09:22:20.585048Z",
     "shell.execute_reply": "2024-01-10T09:22:20.583903Z"
    },
    "papermill": {
     "duration": 0.021553,
     "end_time": "2024-01-10T09:22:20.587783",
     "exception": false,
     "start_time": "2024-01-10T09:22:20.566230",
     "status": "completed"
    },
    "tags": []
   },
   "outputs": [
    {
     "name": "stdout",
     "output_type": "stream",
     "text": [
      "120\n"
     ]
    }
   ],
   "source": [
    "project_two = cost_of_project(\"08/10/2000\", False)\n",
    "print(project_two)"
   ]
  },
  {
   "cell_type": "markdown",
   "id": "bad95608",
   "metadata": {
    "papermill": {
     "duration": 0.010979,
     "end_time": "2024-01-10T09:22:20.610265",
     "exception": false,
     "start_time": "2024-01-10T09:22:20.599286",
     "status": "completed"
    },
    "tags": []
   },
   "source": [
    "# Keep going\n",
    "\n",
    "Continue to the next lesson to **[learn about conditions and conditional statements](https://www.kaggle.com/alexisbcook/conditions-and-conditional-statements)**."
   ]
  },
  {
   "cell_type": "markdown",
   "id": "b6357a11",
   "metadata": {
    "papermill": {
     "duration": 0.01093,
     "end_time": "2024-01-10T09:22:20.632541",
     "exception": false,
     "start_time": "2024-01-10T09:22:20.621611",
     "status": "completed"
    },
    "tags": []
   },
   "source": [
    "---\n",
    "\n",
    "\n",
    "\n",
    "\n",
    "*Have questions or comments? Visit the [course discussion forum](https://www.kaggle.com/learn/intro-to-programming/discussion) to chat with other learners.*"
   ]
  }
 ],
 "metadata": {
  "kaggle": {
   "accelerator": "none",
   "dataSources": [],
   "isGpuEnabled": false,
   "isInternetEnabled": false,
   "language": "python",
   "sourceType": "notebook"
  },
  "kernelspec": {
   "display_name": "Python 3",
   "language": "python",
   "name": "python3"
  },
  "language_info": {
   "codemirror_mode": {
    "name": "ipython",
    "version": 3
   },
   "file_extension": ".py",
   "mimetype": "text/x-python",
   "name": "python",
   "nbconvert_exporter": "python",
   "pygments_lexer": "ipython3",
   "version": "3.10.12"
  },
  "papermill": {
   "default_parameters": {},
   "duration": 5.352396,
   "end_time": "2024-01-10T09:22:21.165597",
   "environment_variables": {},
   "exception": null,
   "input_path": "__notebook__.ipynb",
   "output_path": "__notebook__.ipynb",
   "parameters": {},
   "start_time": "2024-01-10T09:22:15.813201",
   "version": "2.3.3"
  }
 },
 "nbformat": 4,
 "nbformat_minor": 5
}
