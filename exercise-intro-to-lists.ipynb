{
 "cells": [
  {
   "cell_type": "markdown",
   "id": "54ad6a5b",
   "metadata": {
    "papermill": {
     "duration": 0.006444,
     "end_time": "2024-01-11T03:28:04.414133",
     "exception": false,
     "start_time": "2024-01-11T03:28:04.407689",
     "status": "completed"
    },
    "tags": []
   },
   "source": [
    "**This notebook is an exercise in the [Intro to Programming](https://www.kaggle.com/learn/intro-to-programming) course.  You can reference the tutorial at [this link](https://www.kaggle.com/alexisbcook/intro-to-lists).**\n",
    "\n",
    "---\n"
   ]
  },
  {
   "cell_type": "markdown",
   "id": "1acc8787",
   "metadata": {
    "papermill": {
     "duration": 0.005852,
     "end_time": "2024-01-11T03:28:04.426163",
     "exception": false,
     "start_time": "2024-01-11T03:28:04.420311",
     "status": "completed"
    },
    "tags": []
   },
   "source": [
    "In the tutorial, you learned how to define and modify Python lists.  In this exercise, you will use your new knowledge to solve several problems.\n",
    "\n",
    "# Set up the notebook\n",
    "\n",
    "Run the next code cell without changes to set up the notebook."
   ]
  },
  {
   "cell_type": "code",
   "execution_count": 1,
   "id": "82f5fe9c",
   "metadata": {
    "execution": {
     "iopub.execute_input": "2024-01-11T03:28:04.440615Z",
     "iopub.status.busy": "2024-01-11T03:28:04.440000Z",
     "iopub.status.idle": "2024-01-11T03:28:04.859843Z",
     "shell.execute_reply": "2024-01-11T03:28:04.858798Z"
    },
    "papermill": {
     "duration": 0.431002,
     "end_time": "2024-01-11T03:28:04.863236",
     "exception": false,
     "start_time": "2024-01-11T03:28:04.432234",
     "status": "completed"
    },
    "tags": []
   },
   "outputs": [
    {
     "name": "stdout",
     "output_type": "stream",
     "text": [
      "Setup complete.\n"
     ]
    }
   ],
   "source": [
    "from learntools.core import binder\n",
    "binder.bind(globals())\n",
    "from learntools.intro_to_programming.ex5 import *\n",
    "print('Setup complete.')"
   ]
  },
  {
   "cell_type": "markdown",
   "id": "ee83938d",
   "metadata": {
    "papermill": {
     "duration": 0.005899,
     "end_time": "2024-01-11T03:28:04.876301",
     "exception": false,
     "start_time": "2024-01-11T03:28:04.870402",
     "status": "completed"
    },
    "tags": []
   },
   "source": [
    "# Question 1\n",
    "\n",
    "You own a restaurant with five food dishes, organized in the Python list `menu` below.  One day, you decide to:\n",
    "- remove bean soup (`'bean soup'`) from the menu, and\n",
    "- add roasted beet salad (`'roasted beet salad'`) to the menu.\n",
    "\n",
    "Implement this change to the list below.  While completing this task, \n",
    "- do not change the line that creates the `menu` list.  \n",
    "- your answer should use `.remove()` and `.append()`.  "
   ]
  },
  {
   "cell_type": "code",
   "execution_count": 2,
   "id": "4486c581",
   "metadata": {
    "execution": {
     "iopub.execute_input": "2024-01-11T03:28:04.889952Z",
     "iopub.status.busy": "2024-01-11T03:28:04.889461Z",
     "iopub.status.idle": "2024-01-11T03:28:04.899348Z",
     "shell.execute_reply": "2024-01-11T03:28:04.898275Z"
    },
    "papermill": {
     "duration": 0.019328,
     "end_time": "2024-01-11T03:28:04.901544",
     "exception": false,
     "start_time": "2024-01-11T03:28:04.882216",
     "status": "completed"
    },
    "tags": []
   },
   "outputs": [
    {
     "data": {
      "application/javascript": [
       "parent.postMessage({\"jupyterEvent\": \"custom.exercise_interaction\", \"data\": {\"outcomeType\": 1, \"valueTowardsCompletion\": 0.2, \"interactionType\": 1, \"questionType\": 2, \"questionId\": \"1_FoodMenu\", \"learnToolsVersion\": \"0.3.4\", \"failureMessage\": \"\", \"exceptionClass\": \"\", \"trace\": \"\"}}, \"*\")"
      ],
      "text/plain": [
       "<IPython.core.display.Javascript object>"
      ]
     },
     "metadata": {},
     "output_type": "display_data"
    },
    {
     "data": {
      "text/markdown": [
       "<span style=\"color:#33cc33\">Correct</span>"
      ],
      "text/plain": [
       "Correct"
      ]
     },
     "metadata": {},
     "output_type": "display_data"
    }
   ],
   "source": [
    "# Do not change: Initial menu for your restaurant\n",
    "menu = ['stewed meat with onions', 'bean soup', 'risotto with trout and shrimp',\n",
    "       'fish soup with cream and onion', 'gyro']\n",
    "\n",
    "# TODO: remove 'bean soup', and add 'roasted beet salad' to the end of the menu\n",
    "menu.remove('bean soup')\n",
    "menu.append('roasted beet salad')\n",
    "\n",
    "# Do not change: Check your answer\n",
    "q1.check()"
   ]
  },
  {
   "cell_type": "code",
   "execution_count": 3,
   "id": "aa66645e",
   "metadata": {
    "execution": {
     "iopub.execute_input": "2024-01-11T03:28:04.915769Z",
     "iopub.status.busy": "2024-01-11T03:28:04.915370Z",
     "iopub.status.idle": "2024-01-11T03:28:04.919407Z",
     "shell.execute_reply": "2024-01-11T03:28:04.918244Z"
    },
    "papermill": {
     "duration": 0.013769,
     "end_time": "2024-01-11T03:28:04.921548",
     "exception": false,
     "start_time": "2024-01-11T03:28:04.907779",
     "status": "completed"
    },
    "tags": []
   },
   "outputs": [],
   "source": [
    "# Uncomment to see a hint\n",
    "#q1.hint()\n",
    "\n",
    "# Uncomment to see the solution\n",
    "#q1.solution()"
   ]
  },
  {
   "cell_type": "markdown",
   "id": "abc59eaf",
   "metadata": {
    "papermill": {
     "duration": 0.005959,
     "end_time": "2024-01-11T03:28:04.933865",
     "exception": false,
     "start_time": "2024-01-11T03:28:04.927906",
     "status": "completed"
    },
    "tags": []
   },
   "source": [
    "# Question 2\n",
    "\n",
    "The list `num_customers` contains the number of customers who came into your restaurant every day over the last month (which lasted thirty days).  Fill in values for each of the following:\n",
    "- `avg_first_seven` - average number of customers who visited in the first seven days\n",
    "- `avg_last_seven` - average number of customers who visited in the last seven days\n",
    "- `max_month` - number of customers on the day that got the most customers in the last month\n",
    "- `min_month` - number of customers on the day that got the least customers in the last month\n",
    "\n",
    "Answer this question by writing code.  For instance, if you have to find the minimum value in a list, use `min()` instead of scanning for the smallest value and directly filling in a number."
   ]
  },
  {
   "cell_type": "code",
   "execution_count": 4,
   "id": "7cdd1a58",
   "metadata": {
    "execution": {
     "iopub.execute_input": "2024-01-11T03:28:04.948213Z",
     "iopub.status.busy": "2024-01-11T03:28:04.947497Z",
     "iopub.status.idle": "2024-01-11T03:28:04.955980Z",
     "shell.execute_reply": "2024-01-11T03:28:04.955054Z"
    },
    "papermill": {
     "duration": 0.017923,
     "end_time": "2024-01-11T03:28:04.957862",
     "exception": false,
     "start_time": "2024-01-11T03:28:04.939939",
     "status": "completed"
    },
    "tags": []
   },
   "outputs": [
    {
     "data": {
      "application/javascript": [
       "parent.postMessage({\"jupyterEvent\": \"custom.exercise_interaction\", \"data\": {\"outcomeType\": 1, \"valueTowardsCompletion\": 0.2, \"interactionType\": 1, \"questionType\": 1, \"questionId\": \"2_NumCustomers\", \"learnToolsVersion\": \"0.3.4\", \"failureMessage\": \"\", \"exceptionClass\": \"\", \"trace\": \"\"}}, \"*\")"
      ],
      "text/plain": [
       "<IPython.core.display.Javascript object>"
      ]
     },
     "metadata": {},
     "output_type": "display_data"
    },
    {
     "data": {
      "text/markdown": [
       "<span style=\"color:#33cc33\">Correct</span>"
      ],
      "text/plain": [
       "Correct"
      ]
     },
     "metadata": {},
     "output_type": "display_data"
    }
   ],
   "source": [
    "# Do not change: Number of customers each day for the last month\n",
    "num_customers = [137, 147, 135, 128, 170, 174, 165, 146, 126, 159,\n",
    "                 141, 148, 132, 147, 168, 153, 170, 161, 148, 152,\n",
    "                 141, 151, 131, 149, 164, 163, 143, 143, 166, 171]\n",
    "\n",
    "# TODO: Fill in values for the variables below\n",
    "avg_first_seven = sum(num_customers[:7])/7\n",
    "avg_last_seven = sum(num_customers[-7:])/7\n",
    "max_month = max(num_customers)\n",
    "min_month = min(num_customers)\n",
    "# Do not change: Check your answer\n",
    "q2.check()\n"
   ]
  },
  {
   "cell_type": "code",
   "execution_count": 5,
   "id": "bf9df427",
   "metadata": {
    "execution": {
     "iopub.execute_input": "2024-01-11T03:28:04.973340Z",
     "iopub.status.busy": "2024-01-11T03:28:04.972683Z",
     "iopub.status.idle": "2024-01-11T03:28:04.976999Z",
     "shell.execute_reply": "2024-01-11T03:28:04.975899Z"
    },
    "papermill": {
     "duration": 0.014407,
     "end_time": "2024-01-11T03:28:04.978967",
     "exception": false,
     "start_time": "2024-01-11T03:28:04.964560",
     "status": "completed"
    },
    "tags": []
   },
   "outputs": [],
   "source": [
    "# Uncomment to see a hint\n",
    "#q2.hint()\n",
    "\n",
    "# Uncomment to see the solution\n",
    "#q2.solution()"
   ]
  },
  {
   "cell_type": "markdown",
   "id": "5ebae303",
   "metadata": {
    "papermill": {
     "duration": 0.006231,
     "end_time": "2024-01-11T03:28:04.991897",
     "exception": false,
     "start_time": "2024-01-11T03:28:04.985666",
     "status": "completed"
    },
    "tags": []
   },
   "source": [
    "# Question 3\n",
    "\n",
    "In the tutorial, we gave an example of a Python string with information that was better as a list."
   ]
  },
  {
   "cell_type": "code",
   "execution_count": 6,
   "id": "a908e4bc",
   "metadata": {
    "execution": {
     "iopub.execute_input": "2024-01-11T03:28:05.007007Z",
     "iopub.status.busy": "2024-01-11T03:28:05.005984Z",
     "iopub.status.idle": "2024-01-11T03:28:05.010790Z",
     "shell.execute_reply": "2024-01-11T03:28:05.010007Z"
    },
    "papermill": {
     "duration": 0.01438,
     "end_time": "2024-01-11T03:28:05.012670",
     "exception": false,
     "start_time": "2024-01-11T03:28:04.998290",
     "status": "completed"
    },
    "tags": []
   },
   "outputs": [],
   "source": [
    "flowers = \"pink primrose,hard-leaved pocket orchid,canterbury bells,sweet pea,english marigold,tiger lily,moon orchid,bird of paradise,monkshood,globe thistle\""
   ]
  },
  {
   "cell_type": "markdown",
   "id": "0b51b34e",
   "metadata": {
    "papermill": {
     "duration": 0.006237,
     "end_time": "2024-01-11T03:28:05.025341",
     "exception": false,
     "start_time": "2024-01-11T03:28:05.019104",
     "status": "completed"
    },
    "tags": []
   },
   "source": [
    "You can actually use Python to quickly turn this string into a list with `.split()`.  In the parentheses, we need to provide the character should be used to mark the end of one list item and the beginning of another, and enclose it in quotation marks.  In this case, that character is a comma."
   ]
  },
  {
   "cell_type": "code",
   "execution_count": 7,
   "id": "4ec689ce",
   "metadata": {
    "execution": {
     "iopub.execute_input": "2024-01-11T03:28:05.040524Z",
     "iopub.status.busy": "2024-01-11T03:28:05.039669Z",
     "iopub.status.idle": "2024-01-11T03:28:05.044721Z",
     "shell.execute_reply": "2024-01-11T03:28:05.043711Z"
    },
    "papermill": {
     "duration": 0.015921,
     "end_time": "2024-01-11T03:28:05.047712",
     "exception": false,
     "start_time": "2024-01-11T03:28:05.031791",
     "status": "completed"
    },
    "tags": []
   },
   "outputs": [
    {
     "name": "stdout",
     "output_type": "stream",
     "text": [
      "['pink primrose', 'hard-leaved pocket orchid', 'canterbury bells', 'sweet pea', 'english marigold', 'tiger lily', 'moon orchid', 'bird of paradise', 'monkshood', 'globe thistle']\n"
     ]
    }
   ],
   "source": [
    " print(flowers.split(\",\"))"
   ]
  },
  {
   "cell_type": "markdown",
   "id": "1784ad3e",
   "metadata": {
    "papermill": {
     "duration": 0.006361,
     "end_time": "2024-01-11T03:28:05.060707",
     "exception": false,
     "start_time": "2024-01-11T03:28:05.054346",
     "status": "completed"
    },
    "tags": []
   },
   "source": [
    "Now it is your turn to try this out!  Create two Python lists:\n",
    "- `letters` should be a Python list where each entry is an uppercase letter of the English alphabet.  For instance, the first two entries should be `\"A\"` and `\"B\"`, and the final two entries should be `\"Y\"` and `\"Z\"`.  Use the string `alphabet` to create this list.\n",
    "- `address` should be a Python list where each row in `address` is a different item in the list.  Currently, each row in `address` is separated by a comma. "
   ]
  },
  {
   "cell_type": "code",
   "execution_count": 8,
   "id": "30cf7314",
   "metadata": {
    "execution": {
     "iopub.execute_input": "2024-01-11T03:28:05.076294Z",
     "iopub.status.busy": "2024-01-11T03:28:05.075645Z",
     "iopub.status.idle": "2024-01-11T03:28:05.084383Z",
     "shell.execute_reply": "2024-01-11T03:28:05.083421Z"
    },
    "papermill": {
     "duration": 0.01929,
     "end_time": "2024-01-11T03:28:05.086556",
     "exception": false,
     "start_time": "2024-01-11T03:28:05.067266",
     "status": "completed"
    },
    "tags": []
   },
   "outputs": [
    {
     "data": {
      "application/javascript": [
       "parent.postMessage({\"jupyterEvent\": \"custom.exercise_interaction\", \"data\": {\"outcomeType\": 1, \"valueTowardsCompletion\": 0.2, \"interactionType\": 1, \"questionType\": 1, \"questionId\": \"3_SplitString\", \"learnToolsVersion\": \"0.3.4\", \"failureMessage\": \"\", \"exceptionClass\": \"\", \"trace\": \"\"}}, \"*\")"
      ],
      "text/plain": [
       "<IPython.core.display.Javascript object>"
      ]
     },
     "metadata": {},
     "output_type": "display_data"
    },
    {
     "data": {
      "text/markdown": [
       "<span style=\"color:#33cc33\">Correct</span>"
      ],
      "text/plain": [
       "Correct"
      ]
     },
     "metadata": {},
     "output_type": "display_data"
    }
   ],
   "source": [
    "# DO not change: Define two Python strings\n",
    "alphabet = \"A.B.C.D.E.F.G.H.I.J.K.L.M.N.O.P.Q.R.S.T.U.V.W.X.Y.Z\"\n",
    "address = \"Mr. H. Potter,The cupboard under the Stairs,4 Privet Drive,Little Whinging,Surrey\"\n",
    "\n",
    "# TODO: Convert strings into Python lists\n",
    "letters = alphabet.split(\".\")\n",
    "formatted_address = address.split(\",\")\n",
    "\n",
    "# Do not change: Check your answer\n",
    "q3.check()"
   ]
  },
  {
   "cell_type": "code",
   "execution_count": 9,
   "id": "cc3c981d",
   "metadata": {
    "execution": {
     "iopub.execute_input": "2024-01-11T03:28:05.101939Z",
     "iopub.status.busy": "2024-01-11T03:28:05.101564Z",
     "iopub.status.idle": "2024-01-11T03:28:05.105596Z",
     "shell.execute_reply": "2024-01-11T03:28:05.104599Z"
    },
    "papermill": {
     "duration": 0.014439,
     "end_time": "2024-01-11T03:28:05.107818",
     "exception": false,
     "start_time": "2024-01-11T03:28:05.093379",
     "status": "completed"
    },
    "tags": []
   },
   "outputs": [],
   "source": [
    "# Uncomment to see a hint\n",
    "#q3.hint()\n",
    "\n",
    "# Uncomment to see the solution\n",
    "#q3.solution()"
   ]
  },
  {
   "cell_type": "markdown",
   "id": "a0568be6",
   "metadata": {
    "papermill": {
     "duration": 0.006644,
     "end_time": "2024-01-11T03:28:05.121386",
     "exception": false,
     "start_time": "2024-01-11T03:28:05.114742",
     "status": "completed"
    },
    "tags": []
   },
   "source": [
    "# Question 4\n",
    "\n",
    "In the Python course, you'll learn all about **list comprehensions**, which allow you to create a list based on the values in another list.  In this question, you'll get a brief preview of how they work.\n",
    "\n",
    "Say we're working with the list below."
   ]
  },
  {
   "cell_type": "code",
   "execution_count": 10,
   "id": "72fe9514",
   "metadata": {
    "execution": {
     "iopub.execute_input": "2024-01-11T03:28:05.137082Z",
     "iopub.status.busy": "2024-01-11T03:28:05.136238Z",
     "iopub.status.idle": "2024-01-11T03:28:05.141056Z",
     "shell.execute_reply": "2024-01-11T03:28:05.140014Z"
    },
    "papermill": {
     "duration": 0.014751,
     "end_time": "2024-01-11T03:28:05.142996",
     "exception": false,
     "start_time": "2024-01-11T03:28:05.128245",
     "status": "completed"
    },
    "tags": []
   },
   "outputs": [],
   "source": [
    "test_ratings = [1, 2, 3, 4, 5]"
   ]
  },
  {
   "cell_type": "markdown",
   "id": "136baff1",
   "metadata": {
    "papermill": {
     "duration": 0.006665,
     "end_time": "2024-01-11T03:28:05.156493",
     "exception": false,
     "start_time": "2024-01-11T03:28:05.149828",
     "status": "completed"
    },
    "tags": []
   },
   "source": [
    "Then we can use this list (`test_ratings`) to create a new list (`test_liked`) where each item has been turned into a boolean, depending on whether or not the item is greater than or equal to four."
   ]
  },
  {
   "cell_type": "code",
   "execution_count": 11,
   "id": "6d766518",
   "metadata": {
    "execution": {
     "iopub.execute_input": "2024-01-11T03:28:05.171976Z",
     "iopub.status.busy": "2024-01-11T03:28:05.171290Z",
     "iopub.status.idle": "2024-01-11T03:28:05.176439Z",
     "shell.execute_reply": "2024-01-11T03:28:05.175510Z"
    },
    "papermill": {
     "duration": 0.015145,
     "end_time": "2024-01-11T03:28:05.178336",
     "exception": false,
     "start_time": "2024-01-11T03:28:05.163191",
     "status": "completed"
    },
    "tags": []
   },
   "outputs": [
    {
     "name": "stdout",
     "output_type": "stream",
     "text": [
      "[False, False, False, True, True]\n"
     ]
    }
   ],
   "source": [
    "test_liked = [i>=4 for i in test_ratings]\n",
    "print(test_liked)"
   ]
  },
  {
   "cell_type": "markdown",
   "id": "96d55b25",
   "metadata": {
    "papermill": {
     "duration": 0.006649,
     "end_time": "2024-01-11T03:28:05.191798",
     "exception": false,
     "start_time": "2024-01-11T03:28:05.185149",
     "status": "completed"
    },
    "tags": []
   },
   "source": [
    "In this question, you'll use this list comprehension to define a function `percentage_liked()` that takes one argument as input:\n",
    "- `ratings`: list of ratings that people gave to a movie, where each rating is a number between 1-5, inclusive\n",
    "\n",
    "We say someone liked the movie, if they gave a rating of either 4 or 5.  Your function should return the percentage of people who liked the movie.\n",
    "\n",
    "For instance, if we supply a value of `[1, 2, 3, 4, 5, 4, 5, 1]`, then 50% (4/8) of the people liked the movie, and the function should return `0.5`.\n",
    "\n",
    "Part of the function has already been completed for you.  You need only use `list_liked` to calculate `percentage_liked`."
   ]
  },
  {
   "cell_type": "code",
   "execution_count": 12,
   "id": "670443c3",
   "metadata": {
    "execution": {
     "iopub.execute_input": "2024-01-11T03:28:05.207243Z",
     "iopub.status.busy": "2024-01-11T03:28:05.206623Z",
     "iopub.status.idle": "2024-01-11T03:28:05.214675Z",
     "shell.execute_reply": "2024-01-11T03:28:05.213992Z"
    },
    "papermill": {
     "duration": 0.018424,
     "end_time": "2024-01-11T03:28:05.216974",
     "exception": false,
     "start_time": "2024-01-11T03:28:05.198550",
     "status": "completed"
    },
    "tags": []
   },
   "outputs": [
    {
     "data": {
      "application/javascript": [
       "parent.postMessage({\"jupyterEvent\": \"custom.exercise_interaction\", \"data\": {\"outcomeType\": 1, \"valueTowardsCompletion\": 0.2, \"interactionType\": 1, \"questionType\": 2, \"questionId\": \"4_PercentageLiked\", \"learnToolsVersion\": \"0.3.4\", \"failureMessage\": \"\", \"exceptionClass\": \"\", \"trace\": \"\"}}, \"*\")"
      ],
      "text/plain": [
       "<IPython.core.display.Javascript object>"
      ]
     },
     "metadata": {},
     "output_type": "display_data"
    },
    {
     "data": {
      "text/markdown": [
       "<span style=\"color:#33cc33\">Correct</span>"
      ],
      "text/plain": [
       "Correct"
      ]
     },
     "metadata": {},
     "output_type": "display_data"
    }
   ],
   "source": [
    "\n",
    "def percentage_liked(ratings):\n",
    "    list_liked = [i>=4 for i in ratings]\n",
    "    # TODO: Complete the function\n",
    "    percentage_liked = sum(list_liked)/len(ratings)\n",
    "    return percentage_liked\n",
    "\n",
    "# Do not change: should return 0.5\n",
    "percentage_liked([1, 2, 3, 4, 5, 4, 5, 1])\n",
    "\n",
    "# Do not change: Check your answer\n",
    "q4.check()"
   ]
  },
  {
   "cell_type": "code",
   "execution_count": 13,
   "id": "67cd437f",
   "metadata": {
    "execution": {
     "iopub.execute_input": "2024-01-11T03:28:05.233420Z",
     "iopub.status.busy": "2024-01-11T03:28:05.232812Z",
     "iopub.status.idle": "2024-01-11T03:28:05.245401Z",
     "shell.execute_reply": "2024-01-11T03:28:05.244538Z"
    },
    "papermill": {
     "duration": 0.023363,
     "end_time": "2024-01-11T03:28:05.247532",
     "exception": false,
     "start_time": "2024-01-11T03:28:05.224169",
     "status": "completed"
    },
    "tags": []
   },
   "outputs": [
    {
     "data": {
      "application/javascript": [
       "parent.postMessage({\"jupyterEvent\": \"custom.exercise_interaction\", \"data\": {\"interactionType\": 2, \"questionType\": 2, \"questionId\": \"4_PercentageLiked\", \"learnToolsVersion\": \"0.3.4\", \"valueTowardsCompletion\": 0.0, \"failureMessage\": \"\", \"exceptionClass\": \"\", \"trace\": \"\", \"outcomeType\": 4}}, \"*\")"
      ],
      "text/plain": [
       "<IPython.core.display.Javascript object>"
      ]
     },
     "metadata": {},
     "output_type": "display_data"
    },
    {
     "data": {
      "text/markdown": [
       "<span style=\"color:#3366cc\">Hint:</span> Remember that when we add booleans, it returns the total number of entries in the sum that are `True`."
      ],
      "text/plain": [
       "Hint: Remember that when we add booleans, it returns the total number of entries in the sum that are `True`."
      ]
     },
     "metadata": {},
     "output_type": "display_data"
    },
    {
     "data": {
      "application/javascript": [
       "parent.postMessage({\"jupyterEvent\": \"custom.exercise_interaction\", \"data\": {\"interactionType\": 3, \"questionType\": 2, \"questionId\": \"4_PercentageLiked\", \"learnToolsVersion\": \"0.3.4\", \"valueTowardsCompletion\": 0.0, \"failureMessage\": \"\", \"exceptionClass\": \"\", \"trace\": \"\", \"outcomeType\": 4}}, \"*\")"
      ],
      "text/plain": [
       "<IPython.core.display.Javascript object>"
      ]
     },
     "metadata": {},
     "output_type": "display_data"
    },
    {
     "data": {
      "text/markdown": [
       "<span style=\"color:#33cc99\">Solution:</span> \n",
       "```python\n",
       "\n",
       "# Complete the function\n",
       "def percentage_liked(ratings):\n",
       "    list_liked = [i >= 4 for i in ratings]\n",
       "    percentage_liked = sum(list_liked)/len(list_liked)\n",
       "    return percentage_liked\n",
       "\n",
       "```"
      ],
      "text/plain": [
       "Solution: \n",
       "```python\n",
       "\n",
       "# Complete the function\n",
       "def percentage_liked(ratings):\n",
       "    list_liked = [i >= 4 for i in ratings]\n",
       "    percentage_liked = sum(list_liked)/len(list_liked)\n",
       "    return percentage_liked\n",
       "\n",
       "```"
      ]
     },
     "metadata": {},
     "output_type": "display_data"
    }
   ],
   "source": [
    "# Uncomment to see a hint\n",
    "q4.hint()\n",
    "\n",
    "# Uncomment to see the solution\n",
    "q4.solution()"
   ]
  },
  {
   "cell_type": "markdown",
   "id": "768c20fc",
   "metadata": {
    "papermill": {
     "duration": 0.007403,
     "end_time": "2024-01-11T03:28:05.262767",
     "exception": false,
     "start_time": "2024-01-11T03:28:05.255364",
     "status": "completed"
    },
    "tags": []
   },
   "source": [
    "# 🌶️ Question 5\n",
    " \n",
    "Say you're doing analytics for a website.  You need to write a function that returns the percentage growth in the total number of users relative to a specified number of years ago.\n",
    "\n",
    "Your function `percentage_growth()` should take two arguments as input:\n",
    "- `num_users` = Python list with the total number of users each year.  So `num_users[0]` is the total number of users in the first year, `num_users[1]` is the total number of users in the second year, and so on.  The final entry in the list gives the total number of users in the most recently completed year.\n",
    "- `yrs_ago` = number of years to go back in time when calculating the growth percentage\n",
    "\n",
    "For instance, say `num_users = [920344, 1043553, 1204334, 1458996, 1503323, 1593432, 1623463, 1843064, 1930992, 2001078]`.\n",
    "- if `yrs_ago = 1`, we want the function to return a value of about `0.036`. This corresponds to a percentage growth of approximately 3.6%, calculated as (2001078 - 1930992)/1930992.\n",
    "- if `years_ago = 7`, we would want to return approximately `0.66`.  This corresponds to a percentage growth of approximately 66%, calculated as (2001078 - 1204334)/1204334.\n",
    "\n",
    "Your coworker sent you a draft of a function, but it doesn't seem to be doing the correct calculation.  Can you figure out what has gone wrong and make the needed changes?"
   ]
  },
  {
   "cell_type": "code",
   "execution_count": 14,
   "id": "acfbf96c",
   "metadata": {
    "execution": {
     "iopub.execute_input": "2024-01-11T03:28:05.279726Z",
     "iopub.status.busy": "2024-01-11T03:28:05.279114Z",
     "iopub.status.idle": "2024-01-11T03:28:05.290089Z",
     "shell.execute_reply": "2024-01-11T03:28:05.289044Z"
    },
    "papermill": {
     "duration": 0.02178,
     "end_time": "2024-01-11T03:28:05.292202",
     "exception": false,
     "start_time": "2024-01-11T03:28:05.270422",
     "status": "completed"
    },
    "tags": []
   },
   "outputs": [
    {
     "name": "stdout",
     "output_type": "stream",
     "text": [
      "0.03629533421163837\n",
      "0.6615639847417742\n"
     ]
    },
    {
     "data": {
      "application/javascript": [
       "parent.postMessage({\"jupyterEvent\": \"custom.exercise_interaction\", \"data\": {\"outcomeType\": 1, \"valueTowardsCompletion\": 0.2, \"interactionType\": 1, \"questionType\": 2, \"questionId\": \"5_WebsiteAnalytics\", \"learnToolsVersion\": \"0.3.4\", \"failureMessage\": \"\", \"exceptionClass\": \"\", \"trace\": \"\"}}, \"*\")"
      ],
      "text/plain": [
       "<IPython.core.display.Javascript object>"
      ]
     },
     "metadata": {},
     "output_type": "display_data"
    },
    {
     "data": {
      "text/markdown": [
       "<span style=\"color:#33cc33\">Correct</span>"
      ],
      "text/plain": [
       "Correct"
      ]
     },
     "metadata": {},
     "output_type": "display_data"
    }
   ],
   "source": [
    "# TODO: Edit the function\n",
    "def percentage_growth(num_users, yrs_ago):\n",
    "    growth = (num_users[len(num_users)-1] - num_users[(len(num_users)-1)-yrs_ago])/num_users[(len(num_users)-1)-yrs_ago]\n",
    "    return growth\n",
    "\n",
    "# Do not change: Variable for calculating some test examples\n",
    "num_users_test = [920344, 1043553, 1204334, 1458996, 1503323, 1593432, 1623463, 1843064, 1930992, 2001078]\n",
    "\n",
    "# Do not change: Should return .036\n",
    "print(percentage_growth(num_users_test, 1))\n",
    "\n",
    "# Do not change: Should return 0.66\n",
    "print(percentage_growth(num_users_test, 7))\n",
    "\n",
    "\n",
    "# Do not change: Check your answer\n",
    "q5.check()\n",
    "\n"
   ]
  },
  {
   "cell_type": "code",
   "execution_count": 15,
   "id": "9a29c1f2",
   "metadata": {
    "execution": {
     "iopub.execute_input": "2024-01-11T03:28:05.310832Z",
     "iopub.status.busy": "2024-01-11T03:28:05.309830Z",
     "iopub.status.idle": "2024-01-11T03:28:05.314673Z",
     "shell.execute_reply": "2024-01-11T03:28:05.313851Z"
    },
    "papermill": {
     "duration": 0.016641,
     "end_time": "2024-01-11T03:28:05.316680",
     "exception": false,
     "start_time": "2024-01-11T03:28:05.300039",
     "status": "completed"
    },
    "tags": []
   },
   "outputs": [],
   "source": [
    "# Uncomment to see a hint\n",
    "#q5.hint()\n",
    "\n",
    "# Uncomment to see the solution\n",
    "#q5.solution()"
   ]
  },
  {
   "cell_type": "markdown",
   "id": "f09bfcda",
   "metadata": {
    "papermill": {
     "duration": 0.007652,
     "end_time": "2024-01-11T03:28:05.332497",
     "exception": false,
     "start_time": "2024-01-11T03:28:05.324845",
     "status": "completed"
    },
    "tags": []
   },
   "source": [
    "# Congratulations!\n",
    "\n",
    "Congratulations for finishing the Intro to Programming course!  You should be proud of your very first steps with learning programming.  As next steps, we recommend taking:\n",
    "- the **[Python course](http://www.kaggle.com/learn/python)**, and \n",
    "- the **[Intro to Machine Learning course](https://www.kaggle.com/learn/intro-to-machine-learning)**."
   ]
  },
  {
   "cell_type": "markdown",
   "id": "06c9140a",
   "metadata": {
    "papermill": {
     "duration": 0.00758,
     "end_time": "2024-01-11T03:28:05.347945",
     "exception": false,
     "start_time": "2024-01-11T03:28:05.340365",
     "status": "completed"
    },
    "tags": []
   },
   "source": [
    "---\n",
    "\n",
    "\n",
    "\n",
    "\n",
    "*Have questions or comments? Visit the [course discussion forum](https://www.kaggle.com/learn/intro-to-programming/discussion) to chat with other learners.*"
   ]
  }
 ],
 "metadata": {
  "kaggle": {
   "accelerator": "none",
   "dataSources": [],
   "isGpuEnabled": false,
   "isInternetEnabled": false,
   "language": "python",
   "sourceType": "notebook"
  },
  "kernelspec": {
   "display_name": "Python 3",
   "language": "python",
   "name": "python3"
  },
  "language_info": {
   "codemirror_mode": {
    "name": "ipython",
    "version": 3
   },
   "file_extension": ".py",
   "mimetype": "text/x-python",
   "name": "python",
   "nbconvert_exporter": "python",
   "pygments_lexer": "ipython3",
   "version": "3.10.12"
  },
  "papermill": {
   "default_parameters": {},
   "duration": 4.392471,
   "end_time": "2024-01-11T03:28:05.775119",
   "environment_variables": {},
   "exception": null,
   "input_path": "__notebook__.ipynb",
   "output_path": "__notebook__.ipynb",
   "parameters": {},
   "start_time": "2024-01-11T03:28:01.382648",
   "version": "2.4.0"
  }
 },
 "nbformat": 4,
 "nbformat_minor": 5
}
