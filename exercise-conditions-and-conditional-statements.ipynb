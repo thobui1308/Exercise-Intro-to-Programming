{
 "cells": [
  {
   "cell_type": "markdown",
   "id": "cc5839e7",
   "metadata": {
    "papermill": {
     "duration": 0.00628,
     "end_time": "2024-01-11T02:05:13.526353",
     "exception": false,
     "start_time": "2024-01-11T02:05:13.520073",
     "status": "completed"
    },
    "tags": []
   },
   "source": [
    "**This notebook is an exercise in the [Intro to Programming](https://www.kaggle.com/learn/intro-to-programming) course.  You can reference the tutorial at [this link](https://www.kaggle.com/alexisbcook/conditions-and-conditional-statements).**\n",
    "\n",
    "---\n"
   ]
  },
  {
   "cell_type": "markdown",
   "id": "ad20a0f8",
   "metadata": {
    "papermill": {
     "duration": 0.005639,
     "end_time": "2024-01-11T02:05:13.537823",
     "exception": false,
     "start_time": "2024-01-11T02:05:13.532184",
     "status": "completed"
    },
    "tags": []
   },
   "source": [
    "In the tutorial, you learned about conditions and conditional statements. In this exercise, you will use what you learned to answer several questions.\n",
    "\n",
    "# Set up the notebook\n",
    "\n",
    "Run the next code cell without changes to set up the notebook."
   ]
  },
  {
   "cell_type": "code",
   "execution_count": 1,
   "id": "328929cc",
   "metadata": {
    "execution": {
     "iopub.execute_input": "2024-01-11T02:05:13.551335Z",
     "iopub.status.busy": "2024-01-11T02:05:13.550939Z",
     "iopub.status.idle": "2024-01-11T02:05:13.907975Z",
     "shell.execute_reply": "2024-01-11T02:05:13.906236Z"
    },
    "papermill": {
     "duration": 0.367107,
     "end_time": "2024-01-11T02:05:13.910721",
     "exception": false,
     "start_time": "2024-01-11T02:05:13.543614",
     "status": "completed"
    },
    "tags": []
   },
   "outputs": [
    {
     "name": "stdout",
     "output_type": "stream",
     "text": [
      "Setup complete.\n"
     ]
    }
   ],
   "source": [
    "from learntools.core import binder\n",
    "binder.bind(globals())\n",
    "from learntools.intro_to_programming.ex4 import *\n",
    "print('Setup complete.')"
   ]
  },
  {
   "cell_type": "markdown",
   "id": "368755bf",
   "metadata": {
    "papermill": {
     "duration": 0.006007,
     "end_time": "2024-01-11T02:05:13.922977",
     "exception": false,
     "start_time": "2024-01-11T02:05:13.916970",
     "status": "completed"
    },
    "tags": []
   },
   "source": [
    "# Question 1\n",
    "\n",
    "You work at a college admissions office.  When inspecting a dataset of college applicants, you notice that some students have represented their grades with letters (`\"A\"`, `\"B\"`, `\"C\"`, `\"D\"`, `\"F\"`), whereas others have represented their grades with a number between 0 and 100.\n",
    "\n",
    "You realize that for consistency, all of the grades should be formatted in the same way, and you decide to format them all as letters.  For the conversion, you decide to assign:\n",
    "- `\"A\"` - any grade 90-100, inclusive\n",
    "- `\"B\"` - any grade 80-89, inclusive\n",
    "- `\"C\"` - any grade 70-79, inclusive\n",
    "- `\"D\"` - any grade 60-69, inclusive\n",
    "- `\"F\"` - any grade <60\n",
    "\n",
    "Write a function `get_grade()` that takes as input:\n",
    "- `score` - an integer 0-100 corresponding to a numerical grade\n",
    "\n",
    "It should return a Python string with the letter grade that it corresponds to.  For instance,\n",
    "- A score of 85 corresponds to a B grade.  In other words, `get_grade(85)` should return `\"B\"`.\n",
    "- A score of 49 corresponds to an F grade.  In other words, `get_grade(49)` should return `\"F\"`.\n",
    "\n",
    "Make sure that when supplying the grade that is returned by the function, it is enclosed in quotes.  (For instance, if you want to return `\"A\"`, you should write `return \"A\"` and not `return A`.)"
   ]
  },
  {
   "cell_type": "code",
   "execution_count": 2,
   "id": "f85c75cf",
   "metadata": {
    "execution": {
     "iopub.execute_input": "2024-01-11T02:05:13.936497Z",
     "iopub.status.busy": "2024-01-11T02:05:13.936045Z",
     "iopub.status.idle": "2024-01-11T02:05:13.947213Z",
     "shell.execute_reply": "2024-01-11T02:05:13.945676Z"
    },
    "papermill": {
     "duration": 0.020262,
     "end_time": "2024-01-11T02:05:13.949334",
     "exception": false,
     "start_time": "2024-01-11T02:05:13.929072",
     "status": "completed"
    },
    "tags": []
   },
   "outputs": [
    {
     "data": {
      "application/javascript": [
       "parent.postMessage({\"jupyterEvent\": \"custom.exercise_interaction\", \"data\": {\"outcomeType\": 1, \"valueTowardsCompletion\": 0.2, \"interactionType\": 1, \"questionType\": 2, \"questionId\": \"1_GetGrade\", \"learnToolsVersion\": \"0.3.4\", \"failureMessage\": \"\", \"exceptionClass\": \"\", \"trace\": \"\"}}, \"*\")"
      ],
      "text/plain": [
       "<IPython.core.display.Javascript object>"
      ]
     },
     "metadata": {},
     "output_type": "display_data"
    },
    {
     "data": {
      "text/markdown": [
       "<span style=\"color:#33cc33\">Correct</span>"
      ],
      "text/plain": [
       "Correct"
      ]
     },
     "metadata": {},
     "output_type": "display_data"
    }
   ],
   "source": [
    "# TODO: Edit the function to return the correct grade for different scores\n",
    "def get_grade(score):\n",
    "    if score >89:\n",
    "        grade = \"A\"\n",
    "    elif score >79 and score <90:\n",
    "        grade = \"B\"\n",
    "    elif score >69 and score <80:\n",
    "        grade = \"C\"\n",
    "    elif score >59 and score <70:\n",
    "        grade = \"D\"\n",
    "    else:\n",
    "        grade = \"F\"\n",
    "    return grade\n",
    "    \n",
    "# Check your answer\n",
    "q1.check()"
   ]
  },
  {
   "cell_type": "code",
   "execution_count": 3,
   "id": "29168a6d",
   "metadata": {
    "execution": {
     "iopub.execute_input": "2024-01-11T02:05:13.963045Z",
     "iopub.status.busy": "2024-01-11T02:05:13.962518Z",
     "iopub.status.idle": "2024-01-11T02:05:13.966021Z",
     "shell.execute_reply": "2024-01-11T02:05:13.965062Z"
    },
    "papermill": {
     "duration": 0.012989,
     "end_time": "2024-01-11T02:05:13.968361",
     "exception": false,
     "start_time": "2024-01-11T02:05:13.955372",
     "status": "completed"
    },
    "tags": []
   },
   "outputs": [],
   "source": [
    "# Uncomment to see a hint\n",
    "#q1.hint()\n",
    "\n",
    "# Uncomment to see the solution\n",
    "#q1.solution()"
   ]
  },
  {
   "cell_type": "markdown",
   "id": "82b2fb8a",
   "metadata": {
    "papermill": {
     "duration": 0.006111,
     "end_time": "2024-01-11T02:05:13.981190",
     "exception": false,
     "start_time": "2024-01-11T02:05:13.975079",
     "status": "completed"
    },
    "tags": []
   },
   "source": [
    "# Question 2\n",
    "\n",
    "In the exercise for the previous lesson, you wrote a function `cost_of_project()` that estimated the price of rings for an online shop that sells rings with custom engravings.  This function did not use conditional statements.  In this exercise, you will rewrite the function to use conditional statements.  Recall that the online shop has the following price structure:\n",
    "- Gold plated rings have a base cost of \\\\$50, and you charge \\\\$7 per engraved unit.  \n",
    "- Solid gold rings have a base cost of \\\\$100, and you charge \\\\$10 per engraved unit.\n",
    "- Spaces and punctuation are counted as engraved units.\n",
    "\n",
    "Your function `cost_of_project()` takes two arguments:\n",
    "- `engraving` - a Python string with the text of the engraving\n",
    "- `solid_gold` - a Boolean that indicates whether the ring is solid gold\n",
    "\n",
    "It should return the cost of the project.  \n",
    "\n",
    "The function has been partially completed for you, and you need to fill in the blanks to complete the function."
   ]
  },
  {
   "cell_type": "code",
   "execution_count": 4,
   "id": "57c0eabf",
   "metadata": {
    "execution": {
     "iopub.execute_input": "2024-01-11T02:05:13.996472Z",
     "iopub.status.busy": "2024-01-11T02:05:13.995956Z",
     "iopub.status.idle": "2024-01-11T02:05:14.003311Z",
     "shell.execute_reply": "2024-01-11T02:05:14.001959Z"
    },
    "papermill": {
     "duration": 0.018133,
     "end_time": "2024-01-11T02:05:14.005606",
     "exception": false,
     "start_time": "2024-01-11T02:05:13.987473",
     "status": "completed"
    },
    "tags": []
   },
   "outputs": [
    {
     "data": {
      "application/javascript": [
       "parent.postMessage({\"jupyterEvent\": \"custom.exercise_interaction\", \"data\": {\"outcomeType\": 1, \"valueTowardsCompletion\": 0.2, \"interactionType\": 1, \"questionType\": 2, \"questionId\": \"2_CostProjectPartDeux\", \"learnToolsVersion\": \"0.3.4\", \"failureMessage\": \"\", \"exceptionClass\": \"\", \"trace\": \"\"}}, \"*\")"
      ],
      "text/plain": [
       "<IPython.core.display.Javascript object>"
      ]
     },
     "metadata": {},
     "output_type": "display_data"
    },
    {
     "data": {
      "text/markdown": [
       "<span style=\"color:#33cc33\">Correct</span>"
      ],
      "text/plain": [
       "Correct"
      ]
     },
     "metadata": {},
     "output_type": "display_data"
    }
   ],
   "source": [
    "def cost_of_project(engraving, solid_gold):\n",
    "    if solid_gold == True:\n",
    "        cost = 100 + 10*len(engraving)\n",
    "    else:\n",
    "        cost = 50 + 7*len(engraving)\n",
    "    return cost\n",
    "\n",
    "# Check your answer\n",
    "q2.check()"
   ]
  },
  {
   "cell_type": "code",
   "execution_count": 5,
   "id": "036a051e",
   "metadata": {
    "execution": {
     "iopub.execute_input": "2024-01-11T02:05:14.020300Z",
     "iopub.status.busy": "2024-01-11T02:05:14.019707Z",
     "iopub.status.idle": "2024-01-11T02:05:14.024139Z",
     "shell.execute_reply": "2024-01-11T02:05:14.022835Z"
    },
    "papermill": {
     "duration": 0.014313,
     "end_time": "2024-01-11T02:05:14.026385",
     "exception": false,
     "start_time": "2024-01-11T02:05:14.012072",
     "status": "completed"
    },
    "tags": []
   },
   "outputs": [],
   "source": [
    "# Uncomment to see a hint\n",
    "#q2.hint()\n",
    "\n",
    "# Uncomment to see the solution\n",
    "#q2.solution()"
   ]
  },
  {
   "cell_type": "markdown",
   "id": "3ad3004a",
   "metadata": {
    "papermill": {
     "duration": 0.0063,
     "end_time": "2024-01-11T02:05:14.039288",
     "exception": false,
     "start_time": "2024-01-11T02:05:14.032988",
     "status": "completed"
    },
    "tags": []
   },
   "source": [
    "# Question 3\n",
    "\n",
    "You are a programmer at a water agency.  Recently, you have been tasked to write a function `get_water_bill()` that takes as input:\n",
    "- `num_gallons` = the number of gallons of water that a customer used that month.  (This will always be an integer with no decimal part.)\n",
    "\n",
    "It should output the water bill.  \n",
    "\n",
    "The water agency uses this pricing structure:\n",
    "<table style=\"width: 100%;\">\n",
    "<tbody>\n",
    "<tr><th><b>Tier</b></th><th><b>Amount in gallons</b></th><th><b>Price per 1000 gallons</b></th></tr>\n",
    "<tr>\n",
    "<td>Tier 1</td>\n",
    "<td>0 - 8,000</td>\n",
    "<td>\\$5</td>\n",
    "</tr>\n",
    "<tr>\n",
    "<td>Tier 2</td>\n",
    "<td>8,001 - 22,000</td>\n",
    "<td>\\$6</td>\n",
    "</tr>\n",
    "<tr>\n",
    "<td>Tier 3</td>\n",
    "<td>22,001 - 30,000</td>\n",
    "<td>\\$7</td>\n",
    "</tr>\n",
    "<tr>\n",
    "<td>Tier 4</td>\n",
    "<td>30,001+</td>\n",
    "<td>\\$10</td>\n",
    "</tr>\n",
    "</tbody>\n",
    "</table>\n",
    "\n",
    "For example: \n",
    "- Someone who uses 10,000 gallons of water in a month is placed in Tier 2, and needs to pay a water bill of \\\\$6 * 10 = \\\\$60.  In other words, `get_water_bill(10000)` should return `60.0`.\n",
    "- Someone who uses 25,000 gallons of water in a month is placed in Tier 3, and needs to pay a water bill of \\\\$7 * 25 = \\\\$175.  In other words, `get_water_bill(25000)` should return `175.0`.\n",
    "\n",
    "**Do not round your answer.**  So, your answer might return fractions of a penny."
   ]
  },
  {
   "cell_type": "code",
   "execution_count": 6,
   "id": "8b8f23d5",
   "metadata": {
    "execution": {
     "iopub.execute_input": "2024-01-11T02:05:14.053407Z",
     "iopub.status.busy": "2024-01-11T02:05:14.053046Z",
     "iopub.status.idle": "2024-01-11T02:05:14.061606Z",
     "shell.execute_reply": "2024-01-11T02:05:14.060376Z"
    },
    "papermill": {
     "duration": 0.017756,
     "end_time": "2024-01-11T02:05:14.063256",
     "exception": false,
     "start_time": "2024-01-11T02:05:14.045500",
     "status": "completed"
    },
    "tags": []
   },
   "outputs": [
    {
     "data": {
      "application/javascript": [
       "parent.postMessage({\"jupyterEvent\": \"custom.exercise_interaction\", \"data\": {\"outcomeType\": 1, \"valueTowardsCompletion\": 0.2, \"interactionType\": 1, \"questionType\": 2, \"questionId\": \"3_GetWaterBill\", \"learnToolsVersion\": \"0.3.4\", \"failureMessage\": \"\", \"exceptionClass\": \"\", \"trace\": \"\"}}, \"*\")"
      ],
      "text/plain": [
       "<IPython.core.display.Javascript object>"
      ]
     },
     "metadata": {},
     "output_type": "display_data"
    },
    {
     "data": {
      "text/markdown": [
       "<span style=\"color:#33cc33\">Correct</span>"
      ],
      "text/plain": [
       "Correct"
      ]
     },
     "metadata": {},
     "output_type": "display_data"
    }
   ],
   "source": [
    "# TODO: Edit the function to return the correct bill for different\n",
    "# values of num_gallons\n",
    "def get_water_bill(num_gallons):\n",
    "    if num_gallons <= 8000:\n",
    "        bill = 5*(num_gallons/1000)\n",
    "    elif num_gallons <= 22000:\n",
    "        bill = 6*(num_gallons/1000)\n",
    "    elif num_gallons <= 30000:\n",
    "        bill = 7*(num_gallons/1000)\n",
    "    else:\n",
    "        bill = 10*(num_gallons/1000)\n",
    "    return bill\n",
    "\n",
    "# Check your answer\n",
    "q3.check()"
   ]
  },
  {
   "cell_type": "code",
   "execution_count": 7,
   "id": "56bbf65e",
   "metadata": {
    "execution": {
     "iopub.execute_input": "2024-01-11T02:05:14.079479Z",
     "iopub.status.busy": "2024-01-11T02:05:14.078722Z",
     "iopub.status.idle": "2024-01-11T02:05:14.082627Z",
     "shell.execute_reply": "2024-01-11T02:05:14.081983Z"
    },
    "papermill": {
     "duration": 0.013959,
     "end_time": "2024-01-11T02:05:14.084367",
     "exception": false,
     "start_time": "2024-01-11T02:05:14.070408",
     "status": "completed"
    },
    "tags": []
   },
   "outputs": [],
   "source": [
    "# Uncomment to see a hint\n",
    "#q3.hint()\n",
    "\n",
    "# Uncomment to see the solution\n",
    "#q3.solution()"
   ]
  },
  {
   "cell_type": "markdown",
   "id": "98213665",
   "metadata": {
    "papermill": {
     "duration": 0.006313,
     "end_time": "2024-01-11T02:05:14.097401",
     "exception": false,
     "start_time": "2024-01-11T02:05:14.091088",
     "status": "completed"
    },
    "tags": []
   },
   "source": [
    "# Question 4\n",
    "\n",
    "You work for a company that provides data services.  For \\\\$100/month, your company provides 15 gigabytes (GB) of data.  Then, any additional data is billed at \\\\$0.10/MB (or \\\\$100/GB, since 1,000 MB are in 1 GB).\n",
    "\n",
    "Use the next code cell to write a function `get_phone_bill()` that takes as input:\n",
    "- `gb` = number of GB that the customer used in a month\n",
    "\n",
    "It should return the customer's total phone bill.\n",
    "\n",
    "For instance:\n",
    "- A customer who uses 10 GB of data in one month is billed only \\\\$100, since the usage stayed under 15 GB.  In other words, `get_phone_bill(10)` should return `100`.\n",
    "- A customer who uses 15.1 GB (or 15 GB + 100 MB) of data in one month has gone over by .1 GB, so they must pay \\\\$100 (cost of plan), plus \\\\$0.10 * 100 = \\\\$10, for a total bill of \\\\$110.  In other words, `get_phone_bill(15.1)` should return `110`.\n",
    "\n",
    "Do not round your answer."
   ]
  },
  {
   "cell_type": "code",
   "execution_count": 8,
   "id": "58ee7371",
   "metadata": {
    "execution": {
     "iopub.execute_input": "2024-01-11T02:05:14.112924Z",
     "iopub.status.busy": "2024-01-11T02:05:14.112455Z",
     "iopub.status.idle": "2024-01-11T02:05:14.122321Z",
     "shell.execute_reply": "2024-01-11T02:05:14.120957Z"
    },
    "papermill": {
     "duration": 0.020559,
     "end_time": "2024-01-11T02:05:14.124832",
     "exception": false,
     "start_time": "2024-01-11T02:05:14.104273",
     "status": "completed"
    },
    "tags": []
   },
   "outputs": [
    {
     "data": {
      "application/javascript": [
       "parent.postMessage({\"jupyterEvent\": \"custom.exercise_interaction\", \"data\": {\"outcomeType\": 1, \"valueTowardsCompletion\": 0.2, \"interactionType\": 1, \"questionType\": 2, \"questionId\": \"4_GetPhoneBill\", \"learnToolsVersion\": \"0.3.4\", \"failureMessage\": \"\", \"exceptionClass\": \"\", \"trace\": \"\"}}, \"*\")"
      ],
      "text/plain": [
       "<IPython.core.display.Javascript object>"
      ]
     },
     "metadata": {},
     "output_type": "display_data"
    },
    {
     "data": {
      "text/markdown": [
       "<span style=\"color:#33cc33\">Correct</span>"
      ],
      "text/plain": [
       "Correct"
      ]
     },
     "metadata": {},
     "output_type": "display_data"
    }
   ],
   "source": [
    "# TODO: Edit the function to return the correct bill for different\n",
    "# values of GB\n",
    "def get_phone_bill(gb):\n",
    "    if gb <= 15:\n",
    "        bill = 100\n",
    "    else:\n",
    "        bill = 100+(gb-15)*100\n",
    "    return bill\n",
    "\n",
    "# Check your answer\n",
    "q4.check()"
   ]
  },
  {
   "cell_type": "code",
   "execution_count": 9,
   "id": "7c353cd6",
   "metadata": {
    "execution": {
     "iopub.execute_input": "2024-01-11T02:05:14.140442Z",
     "iopub.status.busy": "2024-01-11T02:05:14.140124Z",
     "iopub.status.idle": "2024-01-11T02:05:14.144577Z",
     "shell.execute_reply": "2024-01-11T02:05:14.143358Z"
    },
    "papermill": {
     "duration": 0.014476,
     "end_time": "2024-01-11T02:05:14.146421",
     "exception": false,
     "start_time": "2024-01-11T02:05:14.131945",
     "status": "completed"
    },
    "tags": []
   },
   "outputs": [],
   "source": [
    "# Uncomment to see a hint\n",
    "#q4.hint()\n",
    "\n",
    "# Uncomment to see the solution\n",
    "#q4.solution()"
   ]
  },
  {
   "cell_type": "markdown",
   "id": "701a6f18",
   "metadata": {
    "papermill": {
     "duration": 0.007472,
     "end_time": "2024-01-11T02:05:14.160993",
     "exception": false,
     "start_time": "2024-01-11T02:05:14.153521",
     "status": "completed"
    },
    "tags": []
   },
   "source": [
    "# 🌶️ Question 5\n",
    "\n",
    "In Mexico, foods and beverages that are high in saturated fat, trans fat, sugar, sodium, and/or calories appear with warning labels that are designed to help consumers make healthy food choices.\n",
    "\n",
    "For instance, the [box of cookies](https://world.openfoodfacts.org/product/7501000673209/florentinas-gamesa) in the image below appears with two labels (in the upper right corner):\n",
    "- EXCESO CALORÍAS (in English, EXCESS CALORIES)\n",
    "- EXCESO AZÚCARES (in English, EXCESS SUGAR)\n",
    "\n",
    "<center><img src=\"https://storage.googleapis.com/kaggle-media/learn/images/VXYKHnM.png\" alt=\"drawing\" width=\"500\"/></center>\n",
    "\n",
    "In this question, you'll work with a function `get_labels()` that takes the nutritional details about a food item and prints the needed warning labels.  This function takes several inputs:\n",
    "- `food_type` = one of `\"solid\"` or `\"liquid\"`\n",
    "- `serving_size` = size of one serving (if solid, in grams; if liquid, in milliliters)\n",
    "- `calories_per_serving` = calories in one serving\n",
    "- `saturated_fat_g` = grams of saturated fat in one serving\n",
    "- `trans_fat_g` = grams of trans fat in one serving\n",
    "- `sodium_mg` = mg of sodium in one serving\n",
    "- `sugars_g` = grams of sugar in one serving\n",
    "\n",
    "Note that some of the code here should feel unfamiliar to you, since we have not shared the details of how some of the functions like `excess_sugar()` or `excess_saturated_fat()` work.  But at a high level, these are functions that return a value of `True` if the food is deemed to have an excess of sugar or saturated fat, respectively.  These functions are used within the `get_labels()` function, and whenever there is an excess (of sugar or saturated fat, but also of trans fat, sodium, or calories), it prints the corresponding label."
   ]
  },
  {
   "cell_type": "code",
   "execution_count": 10,
   "id": "62cdd156",
   "metadata": {
    "execution": {
     "iopub.execute_input": "2024-01-11T02:05:14.176263Z",
     "iopub.status.busy": "2024-01-11T02:05:14.175910Z",
     "iopub.status.idle": "2024-01-11T02:05:14.185207Z",
     "shell.execute_reply": "2024-01-11T02:05:14.183928Z"
    },
    "papermill": {
     "duration": 0.019792,
     "end_time": "2024-01-11T02:05:14.187707",
     "exception": false,
     "start_time": "2024-01-11T02:05:14.167915",
     "status": "completed"
    },
    "tags": []
   },
   "outputs": [],
   "source": [
    "# import functions needed to make get_labels work\n",
    "from learntools.intro_to_programming.ex4q5 import excess_sugar, excess_saturated_fat, excess_trans_fat, excess_sodium, excess_calories\n",
    "\n",
    "def get_labels(food_type, serving_size, calories_per_serving, saturated_fat_g, trans_fat_g, sodium_mg, sugars_g):\n",
    "    # Print messages based on findings\n",
    "    if excess_sugar(sugars_g, calories_per_serving) == True:\n",
    "        print(\"EXCESO AZÚCARES / EXCESS SUGAR\")\n",
    "    if excess_saturated_fat(saturated_fat_g, calories_per_serving) == True:\n",
    "        print(\"EXCESO GRASAS SATURADAS / EXCESS SATURATED FAT\")\n",
    "    if excess_trans_fat(trans_fat_g, calories_per_serving) == True:\n",
    "        print(\"EXCESO GRASAS TRANS / EXCESS TRANS FAT\")\n",
    "    if excess_sodium(calories_per_serving, sodium_mg) == True:\n",
    "        print(\"EXCESO SODIO / EXCESS SODIUM\")\n",
    "    if excess_calories(food_type, calories_per_serving, serving_size) == True:\n",
    "        print(\"EXCESO CALORÍAS / EXCESS CALORIES\")"
   ]
  },
  {
   "cell_type": "markdown",
   "id": "99e46814",
   "metadata": {
    "papermill": {
     "duration": 0.006341,
     "end_time": "2024-01-11T02:05:14.200953",
     "exception": false,
     "start_time": "2024-01-11T02:05:14.194612",
     "status": "completed"
    },
    "tags": []
   },
   "source": [
    "The next code cell demonstrates how to use `get_labels()` to get the warning labels that the food item should contain.  We begin with [bologna](https://world.openfoodfacts.org/product/4099100179378/bologna).  Here is [an image](https://storage.googleapis.com/kaggle-media/learn/images/Cfcx72e.png) with all of the nutritional information.  Note that for this food,\n",
    "- `food_type = \"solid\"` (because bologna is a solid and not a liquid)\n",
    "- `serving_size = 32` (the serving size is 32 grams)\n",
    "- `calories_per_serving = 110` (there are 110 calories per serving)\n",
    "- `saturated_fat_g = 2.5` (there are 2.5 grams of saturated fat per serving)\n",
    "- `trans_fat_g = 0` (there are 0 grams of trans fat per serving)\n",
    "- `sodium_mg = 400` (there are 400 mg of sodium per serving)\n",
    "- `sugars_g = 1` (the nutrition facts say <1g, but we will round it up to 1 gram per serving to be safe)\n",
    "\n",
    "By supplying all of these values to the function, we can print the warning labels."
   ]
  },
  {
   "cell_type": "code",
   "execution_count": 11,
   "id": "94bbae21",
   "metadata": {
    "execution": {
     "iopub.execute_input": "2024-01-11T02:05:14.216857Z",
     "iopub.status.busy": "2024-01-11T02:05:14.216495Z",
     "iopub.status.idle": "2024-01-11T02:05:14.222665Z",
     "shell.execute_reply": "2024-01-11T02:05:14.221092Z"
    },
    "papermill": {
     "duration": 0.016318,
     "end_time": "2024-01-11T02:05:14.224824",
     "exception": false,
     "start_time": "2024-01-11T02:05:14.208506",
     "status": "completed"
    },
    "tags": []
   },
   "outputs": [
    {
     "name": "stdout",
     "output_type": "stream",
     "text": [
      "EXCESO GRASAS SATURADAS / EXCESS SATURATED FAT\n",
      "EXCESO SODIO / EXCESS SODIUM\n",
      "EXCESO CALORÍAS / EXCESS CALORIES\n"
     ]
    }
   ],
   "source": [
    "# bologna https://world.openfoodfacts.org/product/4099100179378/bologna\n",
    "get_labels(\"solid\", 32, 110, 2.5, 0, 400, 1)"
   ]
  },
  {
   "cell_type": "markdown",
   "id": "bc4a55d9",
   "metadata": {
    "papermill": {
     "duration": 0.006639,
     "end_time": "2024-01-11T02:05:14.238720",
     "exception": false,
     "start_time": "2024-01-11T02:05:14.232081",
     "status": "completed"
    },
    "tags": []
   },
   "source": [
    "This bologna has three labels, printed in the output above.\n",
    "\n",
    "For the rest of this question, you will use the same `get_labels()` function to determine the labels for more foods.  This question is designed to help you get practice with feeling comfortable with code that other people have written, and where you don't have time to review every single line of code before interacting with it.  For instance, when you take the [Intro to Machine Learning course](http://www.kaggle.com/learn/intro-to-machine-learning), you'll work with a Python package called \"scikit-learn\", which is a large collection of code that you'll learn how to run without reviewing all of the code in detail (as it would take too long, and you can trust that it was implemented correctly).\n",
    "\n",
    "In general, as you continue coding in Python, you will often be running code that other people have written.  This is common practice for advanced programmers.\n",
    "\n",
    "In the next code cell, fill in the values for [this cereal](https://world.openfoodfacts.org/product/7501008023624/zucaritas-kellogg-s).  Here is [an image](https://storage.googleapis.com/kaggle-media/learn/images/MUxzHVU.png) with all of the nutritional information.\n",
    "\n",
    "**Note**: running the line of code below as-is will return an error.  You have to fill in the nutritional values first."
   ]
  },
  {
   "cell_type": "code",
   "execution_count": 12,
   "id": "b07f5d88",
   "metadata": {
    "execution": {
     "iopub.execute_input": "2024-01-11T02:05:14.254361Z",
     "iopub.status.busy": "2024-01-11T02:05:14.254019Z",
     "iopub.status.idle": "2024-01-11T02:05:14.260299Z",
     "shell.execute_reply": "2024-01-11T02:05:14.258671Z"
    },
    "papermill": {
     "duration": 0.017379,
     "end_time": "2024-01-11T02:05:14.263073",
     "exception": false,
     "start_time": "2024-01-11T02:05:14.245694",
     "status": "completed"
    },
    "tags": []
   },
   "outputs": [
    {
     "name": "stdout",
     "output_type": "stream",
     "text": [
      "EXCESO AZÚCARES / EXCESS SUGAR\n",
      "EXCESO SODIO / EXCESS SODIUM\n"
     ]
    }
   ],
   "source": [
    "# zucaritas cereal https://world.openfoodfacts.org/product/7501008023624/zucaritas-kellogg-s\n",
    "# TODO: Uncomment the line below, fill in the values, and run the function\n",
    "get_labels(\"solid\", 40, 15, 0, 0, 150, 16)"
   ]
  },
  {
   "cell_type": "markdown",
   "id": "3efd124e",
   "metadata": {
    "papermill": {
     "duration": 0.007309,
     "end_time": "2024-01-11T02:05:14.277512",
     "exception": false,
     "start_time": "2024-01-11T02:05:14.270203",
     "status": "completed"
    },
    "tags": []
   },
   "source": [
    "Next, try [these mozzarella sticks](https://world-es.openfoodfacts.org/producto/0062325540104/mozzarella-cheese-sticks).  Here is [an image](https://storage.googleapis.com/kaggle-media/learn/images/rcdB7VH.png) with all of the nutritional information."
   ]
  },
  {
   "cell_type": "code",
   "execution_count": 13,
   "id": "f3e1d4d6",
   "metadata": {
    "execution": {
     "iopub.execute_input": "2024-01-11T02:05:14.293149Z",
     "iopub.status.busy": "2024-01-11T02:05:14.292822Z",
     "iopub.status.idle": "2024-01-11T02:05:14.297651Z",
     "shell.execute_reply": "2024-01-11T02:05:14.296281Z"
    },
    "papermill": {
     "duration": 0.015641,
     "end_time": "2024-01-11T02:05:14.300088",
     "exception": false,
     "start_time": "2024-01-11T02:05:14.284447",
     "status": "completed"
    },
    "tags": []
   },
   "outputs": [
    {
     "name": "stdout",
     "output_type": "stream",
     "text": [
      "EXCESO GRASAS SATURADAS / EXCESS SATURATED FAT\n",
      "EXCESO GRASAS TRANS / EXCESS TRANS FAT\n",
      "EXCESO SODIO / EXCESS SODIUM\n",
      "EXCESO CALORÍAS / EXCESS CALORIES\n"
     ]
    }
   ],
   "source": [
    "# mozzarella sticks https://world-es.openfoodfacts.org/producto/0062325540104/mozzarella-cheese-sticks\n",
    "# TODO: Uncomment the line below, fill in the values, and run the function\n",
    "get_labels(\"solid\", 21, 68, 3, 0.2, 208, 0)"
   ]
  },
  {
   "cell_type": "markdown",
   "id": "32bd7ee1",
   "metadata": {
    "papermill": {
     "duration": 0.006597,
     "end_time": "2024-01-11T02:05:14.313888",
     "exception": false,
     "start_time": "2024-01-11T02:05:14.307291",
     "status": "completed"
    },
    "tags": []
   },
   "source": [
    "Feel free to skip to the end of the notebook now and run `q5.check()` to complete the exercise.  If you want to try more foods, \n",
    "- try [these cookies](https://world.openfoodfacts.org/product/0069700118545/biscuits-au-sucre-pretraches).  Here is [an image](https://storage.googleapis.com/kaggle-media/learn/images/2Bc271o.png) with all of the nutritional information.\n",
    "- try [this soda](https://world-es.openfoodfacts.org/producto/0078000113464/orange-soda-sunkist).  Here is [an image](https://storage.googleapis.com/kaggle-media/learn/images/RsBYa8E.png) with all of the nutritional information.\n",
    "\n",
    "Use the two code cells below for this."
   ]
  },
  {
   "cell_type": "code",
   "execution_count": 14,
   "id": "a54a3422",
   "metadata": {
    "execution": {
     "iopub.execute_input": "2024-01-11T02:05:14.331790Z",
     "iopub.status.busy": "2024-01-11T02:05:14.331428Z",
     "iopub.status.idle": "2024-01-11T02:05:14.337937Z",
     "shell.execute_reply": "2024-01-11T02:05:14.336127Z"
    },
    "papermill": {
     "duration": 0.019121,
     "end_time": "2024-01-11T02:05:14.340564",
     "exception": false,
     "start_time": "2024-01-11T02:05:14.321443",
     "status": "completed"
    },
    "tags": []
   },
   "outputs": [
    {
     "name": "stdout",
     "output_type": "stream",
     "text": [
      "EXCESO AZÚCARES / EXCESS SUGAR\n",
      "EXCESO GRASAS SATURADAS / EXCESS SATURATED FAT\n",
      "EXCESO CALORÍAS / EXCESS CALORIES\n"
     ]
    }
   ],
   "source": [
    "# pillsbury cookies https://world.openfoodfacts.org/product/0069700118545/biscuits-au-sucre-pretraches\n",
    "# TODO: Uncomment the line below, fill in the values, and run the function\n",
    "get_labels(\"solid\", 30, 120, 1.5, 0.1, 110, 9)"
   ]
  },
  {
   "cell_type": "code",
   "execution_count": 15,
   "id": "eb8eeb34",
   "metadata": {
    "execution": {
     "iopub.execute_input": "2024-01-11T02:05:14.357362Z",
     "iopub.status.busy": "2024-01-11T02:05:14.357034Z",
     "iopub.status.idle": "2024-01-11T02:05:14.361444Z",
     "shell.execute_reply": "2024-01-11T02:05:14.360588Z"
    },
    "papermill": {
     "duration": 0.014704,
     "end_time": "2024-01-11T02:05:14.363331",
     "exception": false,
     "start_time": "2024-01-11T02:05:14.348627",
     "status": "completed"
    },
    "tags": []
   },
   "outputs": [
    {
     "name": "stdout",
     "output_type": "stream",
     "text": [
      "EXCESO AZÚCARES / EXCESS SUGAR\n"
     ]
    }
   ],
   "source": [
    "# sunkist orange soda https://world-es.openfoodfacts.org/producto/0078000113464/orange-soda-sunkist\n",
    "# TODO: Uncomment the line below, fill in the values, and run the function\n",
    "get_labels(\"liquid\", 355, 160, 0, 0, 65, 44)"
   ]
  },
  {
   "cell_type": "markdown",
   "id": "ed0f6e43",
   "metadata": {
    "papermill": {
     "duration": 0.006664,
     "end_time": "2024-01-11T02:05:14.377190",
     "exception": false,
     "start_time": "2024-01-11T02:05:14.370526",
     "status": "completed"
    },
    "tags": []
   },
   "source": [
    "Once you have finished investigating the food items in this question, run the final code cell to get credit for completing this problem."
   ]
  },
  {
   "cell_type": "code",
   "execution_count": 16,
   "id": "31eeabba",
   "metadata": {
    "execution": {
     "iopub.execute_input": "2024-01-11T02:05:14.393120Z",
     "iopub.status.busy": "2024-01-11T02:05:14.392766Z",
     "iopub.status.idle": "2024-01-11T02:05:14.400551Z",
     "shell.execute_reply": "2024-01-11T02:05:14.399621Z"
    },
    "papermill": {
     "duration": 0.018225,
     "end_time": "2024-01-11T02:05:14.402378",
     "exception": false,
     "start_time": "2024-01-11T02:05:14.384153",
     "status": "completed"
    },
    "tags": []
   },
   "outputs": [
    {
     "data": {
      "application/javascript": [
       "parent.postMessage({\"jupyterEvent\": \"custom.exercise_interaction\", \"data\": {\"outcomeType\": 1, \"valueTowardsCompletion\": 0.2, \"interactionType\": 1, \"questionType\": 2, \"questionId\": \"5_GetLabels\", \"learnToolsVersion\": \"0.3.4\", \"failureMessage\": \"\", \"exceptionClass\": \"\", \"trace\": \"\"}}, \"*\")"
      ],
      "text/plain": [
       "<IPython.core.display.Javascript object>"
      ]
     },
     "metadata": {},
     "output_type": "display_data"
    },
    {
     "data": {
      "text/markdown": [
       "<span style=\"color:#33cc33\">Once you have determined the labels for all of the food items, you're ready to move on to the next lesson!</span>"
      ],
      "text/plain": [
       "Once you have determined the labels for all of the food items, you're ready to move on to the next lesson!"
      ]
     },
     "metadata": {},
     "output_type": "display_data"
    }
   ],
   "source": [
    "# Get credit for completing the problem\n",
    "q5.check()"
   ]
  },
  {
   "cell_type": "markdown",
   "id": "98758ff4",
   "metadata": {
    "papermill": {
     "duration": 0.007804,
     "end_time": "2024-01-11T02:05:14.418071",
     "exception": false,
     "start_time": "2024-01-11T02:05:14.410267",
     "status": "completed"
    },
    "tags": []
   },
   "source": [
    "# Keep going\n",
    "\n",
    "Continue to the next lesson to **[learn about Python lists](https://www.kaggle.com/alexisbcook/intro-to-lists)**."
   ]
  },
  {
   "cell_type": "markdown",
   "id": "4d20ee31",
   "metadata": {
    "papermill": {
     "duration": 0.007701,
     "end_time": "2024-01-11T02:05:14.434334",
     "exception": false,
     "start_time": "2024-01-11T02:05:14.426633",
     "status": "completed"
    },
    "tags": []
   },
   "source": [
    "---\n",
    "\n",
    "\n",
    "\n",
    "\n",
    "*Have questions or comments? Visit the [course discussion forum](https://www.kaggle.com/learn/intro-to-programming/discussion) to chat with other learners.*"
   ]
  }
 ],
 "metadata": {
  "kaggle": {
   "accelerator": "none",
   "dataSources": [],
   "isGpuEnabled": false,
   "isInternetEnabled": true,
   "language": "python",
   "sourceType": "notebook"
  },
  "kernelspec": {
   "display_name": "Python 3",
   "language": "python",
   "name": "python3"
  },
  "language_info": {
   "codemirror_mode": {
    "name": "ipython",
    "version": 3
   },
   "file_extension": ".py",
   "mimetype": "text/x-python",
   "name": "python",
   "nbconvert_exporter": "python",
   "pygments_lexer": "ipython3",
   "version": "3.10.12"
  },
  "papermill": {
   "default_parameters": {},
   "duration": 4.048891,
   "end_time": "2024-01-11T02:05:14.863059",
   "environment_variables": {},
   "exception": null,
   "input_path": "__notebook__.ipynb",
   "output_path": "__notebook__.ipynb",
   "parameters": {},
   "start_time": "2024-01-11T02:05:10.814168",
   "version": "2.4.0"
  }
 },
 "nbformat": 4,
 "nbformat_minor": 5
}
