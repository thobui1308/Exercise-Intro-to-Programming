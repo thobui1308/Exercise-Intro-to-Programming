{
 "cells": [
  {
   "cell_type": "markdown",
   "id": "ce5fe162",
   "metadata": {
    "papermill": {
     "duration": 0.009598,
     "end_time": "2024-01-11T04:17:43.559360",
     "exception": false,
     "start_time": "2024-01-11T04:17:43.549762",
     "status": "completed"
    },
    "tags": []
   },
   "source": [
    "**This notebook is an exercise in the [Python](https://www.kaggle.com/learn/python) course.  You can reference the tutorial at [this link](https://www.kaggle.com/colinmorris/hello-python).**\n",
    "\n",
    "---\n"
   ]
  },
  {
   "cell_type": "markdown",
   "id": "7aa3dff6",
   "metadata": {
    "papermill": {
     "duration": 0.008576,
     "end_time": "2024-01-11T04:17:43.576731",
     "exception": false,
     "start_time": "2024-01-11T04:17:43.568155",
     "status": "completed"
    },
    "tags": []
   },
   "source": [
    "Welcome to your first set of Python coding problems.  If this is your first time using Kaggle Notebooks, welcome! \n",
    "\n",
    "Notebooks are composed of blocks (called \"cells\") of text and code. Each of these is editable, though you'll mainly be editing the code cells to answer some questions.\n",
    "\n",
    "To get started, try running the code cell below (by pressing the ► button, or clicking on the cell and pressing ctrl+enter on your keyboard)."
   ]
  },
  {
   "cell_type": "code",
   "execution_count": 1,
   "id": "1358110f",
   "metadata": {
    "execution": {
     "iopub.execute_input": "2024-01-11T04:17:43.598134Z",
     "iopub.status.busy": "2024-01-11T04:17:43.597476Z",
     "iopub.status.idle": "2024-01-11T04:17:43.611741Z",
     "shell.execute_reply": "2024-01-11T04:17:43.610271Z"
    },
    "papermill": {
     "duration": 0.02717,
     "end_time": "2024-01-11T04:17:43.614043",
     "exception": false,
     "start_time": "2024-01-11T04:17:43.586873",
     "status": "completed"
    },
    "tags": []
   },
   "outputs": [
    {
     "name": "stdout",
     "output_type": "stream",
     "text": [
      "You've successfully run some Python code\n",
      "Congratulations!\n"
     ]
    }
   ],
   "source": [
    "print(\"You've successfully run some Python code\")\n",
    "print(\"Congratulations!\")"
   ]
  },
  {
   "cell_type": "markdown",
   "id": "1c4e228a",
   "metadata": {
    "papermill": {
     "duration": 0.008508,
     "end_time": "2024-01-11T04:17:43.631336",
     "exception": false,
     "start_time": "2024-01-11T04:17:43.622828",
     "status": "completed"
    },
    "tags": []
   },
   "source": [
    "Try adding another line of code in the cell above and re-running it. \n",
    "\n",
    "Now let's get a little fancier:  Add a new code cell by clicking on an existing code cell, hitting the escape key, and then hitting the `a` or `b` key.  The `a` key will add a cell above the current cell, and `b` adds a cell below.\n",
    "\n",
    "Great! Now you know how to use Notebooks.\n",
    "\n",
    "Each hands-on exercise starts by setting up our feedback and code checking mechanism. Run the code cell below to do that. Then you'll be ready to move on to question 0."
   ]
  },
  {
   "cell_type": "code",
   "execution_count": 2,
   "id": "7737b75a",
   "metadata": {
    "_kg_hide-input": true,
    "_kg_hide-output": true,
    "execution": {
     "iopub.execute_input": "2024-01-11T04:17:43.651307Z",
     "iopub.status.busy": "2024-01-11T04:17:43.650615Z",
     "iopub.status.idle": "2024-01-11T04:17:44.152174Z",
     "shell.execute_reply": "2024-01-11T04:17:44.150907Z"
    },
    "papermill": {
     "duration": 0.514867,
     "end_time": "2024-01-11T04:17:44.154811",
     "exception": false,
     "start_time": "2024-01-11T04:17:43.639944",
     "status": "completed"
    },
    "tags": []
   },
   "outputs": [
    {
     "name": "stdout",
     "output_type": "stream",
     "text": [
      "Setup complete! You're ready to start question 0.\n"
     ]
    }
   ],
   "source": [
    "from learntools.core import binder; binder.bind(globals())\n",
    "from learntools.python.ex1 import *\n",
    "print(\"Setup complete! You're ready to start question 0.\")"
   ]
  },
  {
   "cell_type": "markdown",
   "id": "ee4905f4",
   "metadata": {
    "papermill": {
     "duration": 0.008337,
     "end_time": "2024-01-11T04:17:44.171978",
     "exception": false,
     "start_time": "2024-01-11T04:17:44.163641",
     "status": "completed"
    },
    "tags": []
   },
   "source": [
    "# 0.\n",
    "\n",
    "*This is a silly question intended as an introduction to the format we use for hands-on exercises throughout all Kaggle courses.*\n",
    "\n",
    "**What is your favorite color? **\n",
    "\n",
    "To complete this question, create a variable called `color` in the cell below with an appropriate value. The function call `q0.check()` (which we've already provided in the cell below) will check your answer."
   ]
  },
  {
   "cell_type": "code",
   "execution_count": 3,
   "id": "3fe66111",
   "metadata": {
    "execution": {
     "iopub.execute_input": "2024-01-11T04:17:44.191454Z",
     "iopub.status.busy": "2024-01-11T04:17:44.190798Z",
     "iopub.status.idle": "2024-01-11T04:17:44.203435Z",
     "shell.execute_reply": "2024-01-11T04:17:44.202140Z"
    },
    "papermill": {
     "duration": 0.025248,
     "end_time": "2024-01-11T04:17:44.205927",
     "exception": false,
     "start_time": "2024-01-11T04:17:44.180679",
     "status": "completed"
    },
    "tags": []
   },
   "outputs": [
    {
     "name": "stdout",
     "output_type": "stream",
     "text": [
      "blue\n"
     ]
    },
    {
     "data": {
      "application/javascript": [
       "parent.postMessage({\"jupyterEvent\": \"custom.exercise_interaction\", \"data\": {\"outcomeType\": 1, \"valueTowardsCompletion\": 0.25, \"interactionType\": 1, \"questionType\": 2, \"questionId\": \"0_ExerciseFormatTutorial\", \"learnToolsVersion\": \"0.3.4\", \"failureMessage\": \"\", \"exceptionClass\": \"\", \"trace\": \"\"}}, \"*\")"
      ],
      "text/plain": [
       "<IPython.core.display.Javascript object>"
      ]
     },
     "metadata": {},
     "output_type": "display_data"
    },
    {
     "data": {
      "text/markdown": [
       "<span style=\"color:#33cc33\">Correct:</span> What?! You got it right without needing a hint or anything? Drats. Well hey, you should still continue to the next step to get some practice asking for a hint and checking solutions. (Even though you obviously don't need any help here.)"
      ],
      "text/plain": [
       "Correct: What?! You got it right without needing a hint or anything? Drats. Well hey, you should still continue to the next step to get some practice asking for a hint and checking solutions. (Even though you obviously don't need any help here.)"
      ]
     },
     "metadata": {},
     "output_type": "display_data"
    }
   ],
   "source": [
    "# create a variable called color with an appropriate value on the line below\n",
    "# (Remember, strings in Python must be enclosed in 'single' or \"double\" quotes)\n",
    "____\n",
    "color = \"blue\"\n",
    "print(color)\n",
    "# Check your answer\n",
    "q0.check()"
   ]
  },
  {
   "cell_type": "markdown",
   "id": "96ecbb5e",
   "metadata": {
    "papermill": {
     "duration": 0.009009,
     "end_time": "2024-01-11T04:17:44.224181",
     "exception": false,
     "start_time": "2024-01-11T04:17:44.215172",
     "status": "completed"
    },
    "tags": []
   },
   "source": [
    "Didn't get the right answer? How do you not even know your own favorite color?!\n",
    "\n",
    "Delete the `#` in the line below to make one of the lines run. You can choose between getting a hint or the full answer by choosing which line to remove the `#` from. \n",
    "\n",
    "Removing the `#` is called uncommenting, because it changes that line from a \"comment\" which Python doesn't run to code, which Python does run."
   ]
  },
  {
   "cell_type": "code",
   "execution_count": 4,
   "id": "77e90a6e",
   "metadata": {
    "execution": {
     "iopub.execute_input": "2024-01-11T04:17:44.244704Z",
     "iopub.status.busy": "2024-01-11T04:17:44.243828Z",
     "iopub.status.idle": "2024-01-11T04:17:44.255976Z",
     "shell.execute_reply": "2024-01-11T04:17:44.255253Z"
    },
    "papermill": {
     "duration": 0.024796,
     "end_time": "2024-01-11T04:17:44.258211",
     "exception": false,
     "start_time": "2024-01-11T04:17:44.233415",
     "status": "completed"
    },
    "tags": []
   },
   "outputs": [
    {
     "data": {
      "application/javascript": [
       "parent.postMessage({\"jupyterEvent\": \"custom.exercise_interaction\", \"data\": {\"interactionType\": 2, \"questionType\": 2, \"questionId\": \"0_ExerciseFormatTutorial\", \"learnToolsVersion\": \"0.3.4\", \"valueTowardsCompletion\": 0.0, \"failureMessage\": \"\", \"exceptionClass\": \"\", \"trace\": \"\", \"outcomeType\": 4}}, \"*\")"
      ],
      "text/plain": [
       "<IPython.core.display.Javascript object>"
      ]
     },
     "metadata": {},
     "output_type": "display_data"
    },
    {
     "data": {
      "text/markdown": [
       "<span style=\"color:#3366cc\">Hint:</span> Your favorite color rhymes with *glue*."
      ],
      "text/plain": [
       "Hint: Your favorite color rhymes with *glue*."
      ]
     },
     "metadata": {},
     "output_type": "display_data"
    },
    {
     "data": {
      "application/javascript": [
       "parent.postMessage({\"jupyterEvent\": \"custom.exercise_interaction\", \"data\": {\"interactionType\": 3, \"questionType\": 2, \"questionId\": \"0_ExerciseFormatTutorial\", \"learnToolsVersion\": \"0.3.4\", \"valueTowardsCompletion\": 0.0, \"failureMessage\": \"\", \"exceptionClass\": \"\", \"trace\": \"\", \"outcomeType\": 4}}, \"*\")"
      ],
      "text/plain": [
       "<IPython.core.display.Javascript object>"
      ]
     },
     "metadata": {},
     "output_type": "display_data"
    },
    {
     "data": {
      "text/markdown": [
       "<span style=\"color:#33cc99\">Solution:</span> \n",
       "```python\n",
       "color = \"blue\"\n",
       "```"
      ],
      "text/plain": [
       "Solution: \n",
       "```python\n",
       "color = \"blue\"\n",
       "```"
      ]
     },
     "metadata": {},
     "output_type": "display_data"
    }
   ],
   "source": [
    "q0.hint()\n",
    "q0.solution()"
   ]
  },
  {
   "cell_type": "markdown",
   "id": "01b05df0",
   "metadata": {
    "papermill": {
     "duration": 0.01011,
     "end_time": "2024-01-11T04:17:44.278522",
     "exception": false,
     "start_time": "2024-01-11T04:17:44.268412",
     "status": "completed"
    },
    "tags": []
   },
   "source": [
    "The upcoming questions work the same way. The only thing that will change are the question numbers. For the next question, you'll call `q1.check()`, `q1.hint()`, `q1.solution()`, for question 2, you'll call `q2.check()`, and so on."
   ]
  },
  {
   "cell_type": "markdown",
   "id": "9d735191",
   "metadata": {
    "papermill": {
     "duration": 0.009949,
     "end_time": "2024-01-11T04:17:44.298747",
     "exception": false,
     "start_time": "2024-01-11T04:17:44.288798",
     "status": "completed"
    },
    "tags": []
   },
   "source": [
    "<hr/>\n",
    "\n",
    "# 1.\n",
    "\n",
    "Complete the code below. In case it's helpful, here is the table of available arithmetic operations:\n",
    "\n",
    "\n",
    "\n",
    "| Operator     | Name           | Description                                            |\n",
    "|--------------|----------------|--------------------------------------------------------|\n",
    "| ``a + b``    | Addition       | Sum of ``a`` and ``b``                                 |\n",
    "| ``a - b``    | Subtraction    | Difference of ``a`` and ``b``                          |\n",
    "| ``a * b``    | Multiplication | Product of ``a`` and ``b``                             |\n",
    "| ``a / b``    | True division  | Quotient of ``a`` and ``b``                            |\n",
    "| ``a // b``   | Floor division | Quotient of ``a`` and ``b``, removing fractional parts |\n",
    "| ``a % b``    | Modulus        | Integer remainder after division of ``a`` by ``b``     |\n",
    "| ``a ** b``   | Exponentiation | ``a`` raised to the power of ``b``                     |\n",
    "| ``-a``       | Negation       | The negative of ``a``                                  |\n",
    "\n",
    "<span style=\"display:none\"></span>\n"
   ]
  },
  {
   "cell_type": "code",
   "execution_count": 5,
   "id": "2d507a45",
   "metadata": {
    "execution": {
     "iopub.execute_input": "2024-01-11T04:17:44.321487Z",
     "iopub.status.busy": "2024-01-11T04:17:44.321115Z",
     "iopub.status.idle": "2024-01-11T04:17:44.330497Z",
     "shell.execute_reply": "2024-01-11T04:17:44.329583Z"
    },
    "papermill": {
     "duration": 0.023392,
     "end_time": "2024-01-11T04:17:44.332792",
     "exception": false,
     "start_time": "2024-01-11T04:17:44.309400",
     "status": "completed"
    },
    "tags": []
   },
   "outputs": [
    {
     "data": {
      "application/javascript": [
       "parent.postMessage({\"jupyterEvent\": \"custom.exercise_interaction\", \"data\": {\"outcomeType\": 1, \"valueTowardsCompletion\": 0.25, \"interactionType\": 1, \"questionType\": 1, \"questionId\": \"1_CircleArea\", \"learnToolsVersion\": \"0.3.4\", \"failureMessage\": \"\", \"exceptionClass\": \"\", \"trace\": \"\"}}, \"*\")"
      ],
      "text/plain": [
       "<IPython.core.display.Javascript object>"
      ]
     },
     "metadata": {},
     "output_type": "display_data"
    },
    {
     "data": {
      "text/markdown": [
       "<span style=\"color:#33cc33\">Correct</span>"
      ],
      "text/plain": [
       "Correct"
      ]
     },
     "metadata": {},
     "output_type": "display_data"
    }
   ],
   "source": [
    "pi = 3.14159 # approximate\n",
    "diameter = 3\n",
    "\n",
    "# Create a variable called 'radius' equal to half the diameter\n",
    "radius = diameter/2\n",
    "____\n",
    "\n",
    "# Create a variable called 'area', using the formula for the area of a circle: pi times the radius squared\n",
    "area = pi*(radius*radius)\n",
    "____\n",
    "\n",
    "# Check your answer\n",
    "q1.check()"
   ]
  },
  {
   "cell_type": "code",
   "execution_count": 6,
   "id": "e3ab6f03",
   "metadata": {
    "execution": {
     "iopub.execute_input": "2024-01-11T04:17:44.355963Z",
     "iopub.status.busy": "2024-01-11T04:17:44.355294Z",
     "iopub.status.idle": "2024-01-11T04:17:44.359161Z",
     "shell.execute_reply": "2024-01-11T04:17:44.358452Z"
    },
    "papermill": {
     "duration": 0.01783,
     "end_time": "2024-01-11T04:17:44.361165",
     "exception": false,
     "start_time": "2024-01-11T04:17:44.343335",
     "status": "completed"
    },
    "tags": []
   },
   "outputs": [],
   "source": [
    "# Uncomment and run the lines below if you need help.\n",
    "#q1.hint()\n",
    "#q1.solution()"
   ]
  },
  {
   "cell_type": "markdown",
   "id": "d76b7843",
   "metadata": {
    "papermill": {
     "duration": 0.010251,
     "end_time": "2024-01-11T04:17:44.381744",
     "exception": false,
     "start_time": "2024-01-11T04:17:44.371493",
     "status": "completed"
    },
    "tags": []
   },
   "source": [
    "<hr/>\n",
    "\n",
    "# 2.\n",
    "\n",
    "Add code to the following cell to swap variables `a` and `b` (so that `a` refers to the object previously referred to by `b` and vice versa)."
   ]
  },
  {
   "cell_type": "code",
   "execution_count": 7,
   "id": "3119abcc",
   "metadata": {
    "execution": {
     "iopub.execute_input": "2024-01-11T04:17:44.404387Z",
     "iopub.status.busy": "2024-01-11T04:17:44.403940Z",
     "iopub.status.idle": "2024-01-11T04:17:44.415187Z",
     "shell.execute_reply": "2024-01-11T04:17:44.414109Z"
    },
    "papermill": {
     "duration": 0.025771,
     "end_time": "2024-01-11T04:17:44.417959",
     "exception": false,
     "start_time": "2024-01-11T04:17:44.392188",
     "status": "completed"
    },
    "tags": []
   },
   "outputs": [
    {
     "data": {
      "application/javascript": [
       "parent.postMessage({\"jupyterEvent\": \"custom.exercise_interaction\", \"data\": {\"outcomeType\": 1, \"valueTowardsCompletion\": 0.25, \"interactionType\": 1, \"questionType\": 2, \"questionId\": \"2_VariableSwap\", \"learnToolsVersion\": \"0.3.4\", \"failureMessage\": \"\", \"exceptionClass\": \"\", \"trace\": \"\"}}, \"*\")"
      ],
      "text/plain": [
       "<IPython.core.display.Javascript object>"
      ]
     },
     "metadata": {},
     "output_type": "display_data"
    },
    {
     "data": {
      "text/markdown": [
       "<span style=\"color:#33cc33\">Correct:</span> \n",
       "\n",
       "The most straightforward solution is to use a third variable to temporarily store one of the old values. e.g.:\n",
       "\n",
       "    tmp = a\n",
       "    a = b\n",
       "    b = tmp\n",
       "\n",
       "If you've read lots of Python code, you might have seen the following trick to swap two variables in one line:\n",
       "\n",
       "    a, b = b, a\n",
       "\n",
       "We'll demystify this bit of Python magic later when we talk about *tuples*."
      ],
      "text/plain": [
       "Correct: \n",
       "\n",
       "The most straightforward solution is to use a third variable to temporarily store one of the old values. e.g.:\n",
       "\n",
       "    tmp = a\n",
       "    a = b\n",
       "    b = tmp\n",
       "\n",
       "If you've read lots of Python code, you might have seen the following trick to swap two variables in one line:\n",
       "\n",
       "    a, b = b, a\n",
       "\n",
       "We'll demystify this bit of Python magic later when we talk about *tuples*."
      ]
     },
     "metadata": {},
     "output_type": "display_data"
    }
   ],
   "source": [
    "########### Setup code - don't touch this part ######################\n",
    "# If you're curious, these are examples of lists. We'll talk about \n",
    "# them in depth a few lessons from now. For now, just know that they're\n",
    "# yet another type of Python object, like int or float.\n",
    "a = [1, 2, 3]\n",
    "b = [3, 2, 1]\n",
    "q2.store_original_ids()\n",
    "######################################################################\n",
    "\n",
    "# Your code goes here. Swap the values to which a and b refer.\n",
    "# If you get stuck, you can always uncomment one or both of the lines in\n",
    "# the next cell for a hint, or to peek at the solution.\n",
    "a,b =b,a\n",
    "######################################################################\n",
    "\n",
    "# Check your answer\n",
    "q2.check()"
   ]
  },
  {
   "cell_type": "code",
   "execution_count": 8,
   "id": "043a4631",
   "metadata": {
    "execution": {
     "iopub.execute_input": "2024-01-11T04:17:44.442191Z",
     "iopub.status.busy": "2024-01-11T04:17:44.441388Z",
     "iopub.status.idle": "2024-01-11T04:17:44.446105Z",
     "shell.execute_reply": "2024-01-11T04:17:44.445384Z"
    },
    "papermill": {
     "duration": 0.019636,
     "end_time": "2024-01-11T04:17:44.448361",
     "exception": false,
     "start_time": "2024-01-11T04:17:44.428725",
     "status": "completed"
    },
    "tags": []
   },
   "outputs": [],
   "source": [
    "#q2.hint()"
   ]
  },
  {
   "cell_type": "code",
   "execution_count": 9,
   "id": "ee5bd272",
   "metadata": {
    "execution": {
     "iopub.execute_input": "2024-01-11T04:17:44.472989Z",
     "iopub.status.busy": "2024-01-11T04:17:44.471901Z",
     "iopub.status.idle": "2024-01-11T04:17:44.477002Z",
     "shell.execute_reply": "2024-01-11T04:17:44.476264Z"
    },
    "papermill": {
     "duration": 0.019923,
     "end_time": "2024-01-11T04:17:44.479298",
     "exception": false,
     "start_time": "2024-01-11T04:17:44.459375",
     "status": "completed"
    },
    "tags": []
   },
   "outputs": [],
   "source": [
    "#q2.solution()"
   ]
  },
  {
   "cell_type": "markdown",
   "id": "333b1f7a",
   "metadata": {
    "papermill": {
     "duration": 0.010669,
     "end_time": "2024-01-11T04:17:44.501423",
     "exception": false,
     "start_time": "2024-01-11T04:17:44.490754",
     "status": "completed"
    },
    "tags": []
   },
   "source": [
    "<hr/>\n",
    "\n",
    "# 3a.\n",
    "\n",
    "Add parentheses to the following expression so that it evaluates to 1."
   ]
  },
  {
   "cell_type": "code",
   "execution_count": 10,
   "id": "eca24252",
   "metadata": {
    "execution": {
     "iopub.execute_input": "2024-01-11T04:17:44.525257Z",
     "iopub.status.busy": "2024-01-11T04:17:44.524817Z",
     "iopub.status.idle": "2024-01-11T04:17:44.531792Z",
     "shell.execute_reply": "2024-01-11T04:17:44.530754Z"
    },
    "papermill": {
     "duration": 0.022011,
     "end_time": "2024-01-11T04:17:44.534285",
     "exception": false,
     "start_time": "2024-01-11T04:17:44.512274",
     "status": "completed"
    },
    "tags": []
   },
   "outputs": [
    {
     "data": {
      "text/plain": [
       "4"
      ]
     },
     "execution_count": 10,
     "metadata": {},
     "output_type": "execute_result"
    }
   ],
   "source": [
    "5 - 3 // 2"
   ]
  },
  {
   "cell_type": "code",
   "execution_count": 11,
   "id": "da61b630",
   "metadata": {
    "execution": {
     "iopub.execute_input": "2024-01-11T04:17:44.558717Z",
     "iopub.status.busy": "2024-01-11T04:17:44.557876Z",
     "iopub.status.idle": "2024-01-11T04:17:44.562816Z",
     "shell.execute_reply": "2024-01-11T04:17:44.562009Z"
    },
    "papermill": {
     "duration": 0.019871,
     "end_time": "2024-01-11T04:17:44.565017",
     "exception": false,
     "start_time": "2024-01-11T04:17:44.545146",
     "status": "completed"
    },
    "tags": []
   },
   "outputs": [],
   "source": [
    "#q3.a.hint()"
   ]
  },
  {
   "cell_type": "code",
   "execution_count": 12,
   "id": "9e0b04fe",
   "metadata": {
    "execution": {
     "iopub.execute_input": "2024-01-11T04:17:44.591636Z",
     "iopub.status.busy": "2024-01-11T04:17:44.590078Z",
     "iopub.status.idle": "2024-01-11T04:17:44.599405Z",
     "shell.execute_reply": "2024-01-11T04:17:44.598377Z"
    },
    "papermill": {
     "duration": 0.025718,
     "end_time": "2024-01-11T04:17:44.602262",
     "exception": false,
     "start_time": "2024-01-11T04:17:44.576544",
     "status": "completed"
    },
    "tags": []
   },
   "outputs": [
    {
     "data": {
      "application/javascript": [
       "parent.postMessage({\"jupyterEvent\": \"custom.exercise_interaction\", \"data\": {\"interactionType\": 3, \"questionType\": 4, \"questionId\": \"3.1_ArithmeticParensEasy\", \"learnToolsVersion\": \"0.3.4\", \"valueTowardsCompletion\": 0.0, \"failureMessage\": \"\", \"exceptionClass\": \"\", \"trace\": \"\", \"outcomeType\": 4}}, \"*\")"
      ],
      "text/plain": [
       "<IPython.core.display.Javascript object>"
      ]
     },
     "metadata": {},
     "output_type": "display_data"
    },
    {
     "data": {
      "text/markdown": [
       "<span style=\"color:#33cc99\">Solution:</span> \n",
       "```python\n",
       "(5 - 3) // 2\n",
       "```"
      ],
      "text/plain": [
       "Solution: \n",
       "```python\n",
       "(5 - 3) // 2\n",
       "```"
      ]
     },
     "metadata": {},
     "output_type": "display_data"
    }
   ],
   "source": [
    "# Check your answer (Run this code cell to receive credit!)\n",
    "(5-3)//2\n",
    "q3.a.solution()"
   ]
  },
  {
   "cell_type": "markdown",
   "id": "619ef3ed",
   "metadata": {
    "papermill": {
     "duration": 0.011002,
     "end_time": "2024-01-11T04:17:44.624651",
     "exception": false,
     "start_time": "2024-01-11T04:17:44.613649",
     "status": "completed"
    },
    "tags": []
   },
   "source": [
    "# 3b.  <span title=\"A bit spicy\" style=\"color: darkgreen \">🌶️</span>\n",
    "\n",
    "<small>Questions, like this one, marked a spicy pepper are a bit harder.</small>\n",
    "\n",
    "Add parentheses to the following expression so that it evaluates to 0."
   ]
  },
  {
   "cell_type": "code",
   "execution_count": 13,
   "id": "abfd21a1",
   "metadata": {
    "execution": {
     "iopub.execute_input": "2024-01-11T04:17:44.649365Z",
     "iopub.status.busy": "2024-01-11T04:17:44.648744Z",
     "iopub.status.idle": "2024-01-11T04:17:44.655604Z",
     "shell.execute_reply": "2024-01-11T04:17:44.654367Z"
    },
    "papermill": {
     "duration": 0.022701,
     "end_time": "2024-01-11T04:17:44.658561",
     "exception": false,
     "start_time": "2024-01-11T04:17:44.635860",
     "status": "completed"
    },
    "tags": []
   },
   "outputs": [
    {
     "data": {
      "text/plain": [
       "2"
      ]
     },
     "execution_count": 13,
     "metadata": {},
     "output_type": "execute_result"
    }
   ],
   "source": [
    "8 - 3 * 2 - 1 + 1"
   ]
  },
  {
   "cell_type": "code",
   "execution_count": 14,
   "id": "365fcc79",
   "metadata": {
    "execution": {
     "iopub.execute_input": "2024-01-11T04:17:44.684330Z",
     "iopub.status.busy": "2024-01-11T04:17:44.683679Z",
     "iopub.status.idle": "2024-01-11T04:17:44.688431Z",
     "shell.execute_reply": "2024-01-11T04:17:44.687631Z"
    },
    "papermill": {
     "duration": 0.019848,
     "end_time": "2024-01-11T04:17:44.690597",
     "exception": false,
     "start_time": "2024-01-11T04:17:44.670749",
     "status": "completed"
    },
    "tags": []
   },
   "outputs": [],
   "source": [
    "#q3.b.hint()"
   ]
  },
  {
   "cell_type": "code",
   "execution_count": 15,
   "id": "0e895699",
   "metadata": {
    "execution": {
     "iopub.execute_input": "2024-01-11T04:17:44.716120Z",
     "iopub.status.busy": "2024-01-11T04:17:44.715455Z",
     "iopub.status.idle": "2024-01-11T04:17:44.724760Z",
     "shell.execute_reply": "2024-01-11T04:17:44.723441Z"
    },
    "papermill": {
     "duration": 0.025154,
     "end_time": "2024-01-11T04:17:44.727310",
     "exception": false,
     "start_time": "2024-01-11T04:17:44.702156",
     "status": "completed"
    },
    "tags": []
   },
   "outputs": [
    {
     "data": {
      "application/javascript": [
       "parent.postMessage({\"jupyterEvent\": \"custom.exercise_interaction\", \"data\": {\"interactionType\": 3, \"questionType\": 4, \"questionId\": \"3.2_ArithmeticParensHard\", \"learnToolsVersion\": \"0.3.4\", \"valueTowardsCompletion\": 0.0, \"failureMessage\": \"\", \"exceptionClass\": \"\", \"trace\": \"\", \"outcomeType\": 4}}, \"*\")"
      ],
      "text/plain": [
       "<IPython.core.display.Javascript object>"
      ]
     },
     "metadata": {},
     "output_type": "display_data"
    },
    {
     "data": {
      "text/markdown": [
       "<span style=\"color:#33cc99\">Solution:</span> `(8 - 3) * (2 - (1 + 1))` is one solution. There may be others."
      ],
      "text/plain": [
       "Solution: `(8 - 3) * (2 - (1 + 1))` is one solution. There may be others."
      ]
     },
     "metadata": {},
     "output_type": "display_data"
    }
   ],
   "source": [
    "# Check your answer (Run this code cell to receive credit!)\n",
    "(8-3)*(2-(1+1))\n",
    "q3.b.solution()"
   ]
  },
  {
   "cell_type": "markdown",
   "id": "b6a2c034",
   "metadata": {
    "papermill": {
     "duration": 0.011535,
     "end_time": "2024-01-11T04:17:44.750574",
     "exception": false,
     "start_time": "2024-01-11T04:17:44.739039",
     "status": "completed"
    },
    "tags": []
   },
   "source": [
    "<hr/>\n",
    "\n",
    "# 4. \n",
    "Alice, Bob and Carol have agreed to pool their Halloween candy and split it evenly among themselves.\n",
    "For the sake of their friendship, any candies left over will be smashed. For example, if they collectively\n",
    "bring home 91 candies, they'll take 30 each and smash 1.\n",
    "\n",
    "Write an arithmetic expression below to calculate how many candies they must smash for a given haul."
   ]
  },
  {
   "cell_type": "code",
   "execution_count": 16,
   "id": "115d1022",
   "metadata": {
    "execution": {
     "iopub.execute_input": "2024-01-11T04:17:44.776383Z",
     "iopub.status.busy": "2024-01-11T04:17:44.775915Z",
     "iopub.status.idle": "2024-01-11T04:17:44.786698Z",
     "shell.execute_reply": "2024-01-11T04:17:44.785379Z"
    },
    "papermill": {
     "duration": 0.026977,
     "end_time": "2024-01-11T04:17:44.789393",
     "exception": false,
     "start_time": "2024-01-11T04:17:44.762416",
     "status": "completed"
    },
    "tags": []
   },
   "outputs": [
    {
     "data": {
      "application/javascript": [
       "parent.postMessage({\"jupyterEvent\": \"custom.exercise_interaction\", \"data\": {\"outcomeType\": 1, \"valueTowardsCompletion\": 0.25, \"interactionType\": 1, \"questionType\": 1, \"questionId\": \"4_CandySplitting\", \"learnToolsVersion\": \"0.3.4\", \"failureMessage\": \"\", \"exceptionClass\": \"\", \"trace\": \"\"}}, \"*\")"
      ],
      "text/plain": [
       "<IPython.core.display.Javascript object>"
      ]
     },
     "metadata": {},
     "output_type": "display_data"
    },
    {
     "data": {
      "text/markdown": [
       "<span style=\"color:#33cc33\">Correct</span>"
      ],
      "text/plain": [
       "Correct"
      ]
     },
     "metadata": {},
     "output_type": "display_data"
    }
   ],
   "source": [
    "# Variables representing the number of candies collected by alice, bob, and carol\n",
    "alice_candies = 121\n",
    "bob_candies = 77\n",
    "carol_candies = 109\n",
    "\n",
    "# Your code goes here! Replace the right-hand side of this assignment with an expression\n",
    "# involving alice_candies, bob_candies, and carol_candies\n",
    "to_smash = (alice_candies + bob_candies + carol_candies)%3\n",
    "# Check your answer\n",
    "q4.check()"
   ]
  },
  {
   "cell_type": "code",
   "execution_count": 17,
   "id": "4a8c08de",
   "metadata": {
    "execution": {
     "iopub.execute_input": "2024-01-11T04:17:44.816881Z",
     "iopub.status.busy": "2024-01-11T04:17:44.816293Z",
     "iopub.status.idle": "2024-01-11T04:17:44.819860Z",
     "shell.execute_reply": "2024-01-11T04:17:44.819142Z"
    },
    "papermill": {
     "duration": 0.020228,
     "end_time": "2024-01-11T04:17:44.822353",
     "exception": false,
     "start_time": "2024-01-11T04:17:44.802125",
     "status": "completed"
    },
    "tags": []
   },
   "outputs": [],
   "source": [
    "#q4.hint()\n",
    "#q4.solution()"
   ]
  },
  {
   "cell_type": "markdown",
   "id": "8c7e30f7",
   "metadata": {
    "papermill": {
     "duration": 0.011841,
     "end_time": "2024-01-11T04:17:44.846612",
     "exception": false,
     "start_time": "2024-01-11T04:17:44.834771",
     "status": "completed"
    },
    "tags": []
   },
   "source": [
    "# Keep Going\n",
    "\n",
    "Next up, you'll **[learn to write new functions and understand functions others write](https://www.kaggle.com/colinmorris/functions-and-getting-help)**. This will make you at least 10 times more productive as a Python programmer. "
   ]
  },
  {
   "cell_type": "markdown",
   "id": "d33b5cee",
   "metadata": {
    "papermill": {
     "duration": 0.012133,
     "end_time": "2024-01-11T04:17:44.941168",
     "exception": false,
     "start_time": "2024-01-11T04:17:44.929035",
     "status": "completed"
    },
    "tags": []
   },
   "source": [
    "---\n",
    "\n",
    "\n",
    "\n",
    "\n",
    "*Have questions or comments? Visit the [course discussion forum](https://www.kaggle.com/learn/python/discussion) to chat with other learners.*"
   ]
  }
 ],
 "metadata": {
  "kaggle": {
   "accelerator": "none",
   "dataSources": [],
   "isGpuEnabled": false,
   "isInternetEnabled": false,
   "language": "python",
   "sourceType": "notebook"
  },
  "kernelspec": {
   "display_name": "Python 3",
   "language": "python",
   "name": "python3"
  },
  "language_info": {
   "codemirror_mode": {
    "name": "ipython",
    "version": 3
   },
   "file_extension": ".py",
   "mimetype": "text/x-python",
   "name": "python",
   "nbconvert_exporter": "python",
   "pygments_lexer": "ipython3",
   "version": "3.10.12"
  },
  "learntools_metadata": {
   "lesson_index": 0,
   "type": "exercise"
  },
  "papermill": {
   "default_parameters": {},
   "duration": 5.611554,
   "end_time": "2024-01-11T04:17:45.574839",
   "environment_variables": {},
   "exception": null,
   "input_path": "__notebook__.ipynb",
   "output_path": "__notebook__.ipynb",
   "parameters": {},
   "start_time": "2024-01-11T04:17:39.963285",
   "version": "2.4.0"
  }
 },
 "nbformat": 4,
 "nbformat_minor": 5
}
