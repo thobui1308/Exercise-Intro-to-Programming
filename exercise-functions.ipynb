{
 "cells": [
  {
   "cell_type": "markdown",
   "id": "d5bdfd35",
   "metadata": {
    "papermill": {
     "duration": 0.008695,
     "end_time": "2024-01-10T09:21:11.261110",
     "exception": false,
     "start_time": "2024-01-10T09:21:11.252415",
     "status": "completed"
    },
    "tags": []
   },
   "source": [
    "**This notebook is an exercise in the [Intro to Programming](https://www.kaggle.com/learn/intro-to-programming) course.  You can reference the tutorial at [this link](https://www.kaggle.com/alexisbcook/functions).**\n",
    "\n",
    "---\n"
   ]
  },
  {
   "cell_type": "markdown",
   "id": "0e0c5b29",
   "metadata": {
    "papermill": {
     "duration": 0.007966,
     "end_time": "2024-01-10T09:21:11.277073",
     "exception": false,
     "start_time": "2024-01-10T09:21:11.269107",
     "status": "completed"
    },
    "tags": []
   },
   "source": [
    "In the tutorial, you learned about functions. In this exercise, you'll write some of your own!\n",
    "\n",
    "# Set up the notebook\n",
    "\n",
    "Run the next code cell without changes to set up the notebook."
   ]
  },
  {
   "cell_type": "code",
   "execution_count": 1,
   "id": "e02ef4e1",
   "metadata": {
    "execution": {
     "iopub.execute_input": "2024-01-10T09:21:11.296006Z",
     "iopub.status.busy": "2024-01-10T09:21:11.295571Z",
     "iopub.status.idle": "2024-01-10T09:21:11.778931Z",
     "shell.execute_reply": "2024-01-10T09:21:11.778039Z"
    },
    "papermill": {
     "duration": 0.496006,
     "end_time": "2024-01-10T09:21:11.781290",
     "exception": false,
     "start_time": "2024-01-10T09:21:11.285284",
     "status": "completed"
    },
    "tags": []
   },
   "outputs": [
    {
     "name": "stdout",
     "output_type": "stream",
     "text": [
      "Setup complete.\n"
     ]
    }
   ],
   "source": [
    "# Set up the exercise\n",
    "import math\n",
    "from learntools.core import binder\n",
    "binder.bind(globals())\n",
    "from learntools.intro_to_programming.ex2 import *\n",
    "print('Setup complete.')"
   ]
  },
  {
   "cell_type": "markdown",
   "id": "f77274b8",
   "metadata": {
    "papermill": {
     "duration": 0.008668,
     "end_time": "2024-01-10T09:21:11.799108",
     "exception": false,
     "start_time": "2024-01-10T09:21:11.790440",
     "status": "completed"
    },
    "tags": []
   },
   "source": [
    "# Question 1\n",
    "\n",
    "In the [House Prices - Advanced Regression Techniques competition](https://www.kaggle.com/c/house-prices-advanced-regression-techniques/overview), you need to use information like the number of bedrooms and bathrooms to predict the price of a house.  Inspired by this competition, you'll write your own function to do this.\n",
    "\n",
    "In the next code cell, create a function `get_expected_cost()` that has two arguments:\n",
    "- `beds` - number of bedrooms \n",
    "- `baths` - number of bathrooms\n",
    "\n",
    "It should return the expected cost of a house with that number of bedrooms and bathrooms.  Assume that:\n",
    "- the expected cost for a house with 0 bedrooms and 0 bathrooms is `80000`.  \n",
    "- each bedroom adds `30000` to the expected cost\n",
    "- each bathroom adds `10000` to the expected cost.\n",
    "\n",
    "For instance, \n",
    "- a house with 1 bedroom and 1 bathroom has an expected cost of `120000`, and \n",
    "- a house with 2 bedrooms and 1 bathroom has an expected cost of `150000`."
   ]
  },
  {
   "cell_type": "code",
   "execution_count": 2,
   "id": "696e8a91",
   "metadata": {
    "execution": {
     "iopub.execute_input": "2024-01-10T09:21:11.818012Z",
     "iopub.status.busy": "2024-01-10T09:21:11.817340Z",
     "iopub.status.idle": "2024-01-10T09:21:11.828380Z",
     "shell.execute_reply": "2024-01-10T09:21:11.827351Z"
    },
    "papermill": {
     "duration": 0.022911,
     "end_time": "2024-01-10T09:21:11.830593",
     "exception": false,
     "start_time": "2024-01-10T09:21:11.807682",
     "status": "completed"
    },
    "tags": []
   },
   "outputs": [
    {
     "data": {
      "application/javascript": [
       "parent.postMessage({\"jupyterEvent\": \"custom.exercise_interaction\", \"data\": {\"outcomeType\": 1, \"valueTowardsCompletion\": 0.2, \"interactionType\": 1, \"questionType\": 2, \"questionId\": \"1_GetExpectedCost\", \"learnToolsVersion\": \"0.3.4\", \"failureMessage\": \"\", \"exceptionClass\": \"\", \"trace\": \"\"}}, \"*\")"
      ],
      "text/plain": [
       "<IPython.core.display.Javascript object>"
      ]
     },
     "metadata": {},
     "output_type": "display_data"
    },
    {
     "data": {
      "text/markdown": [
       "<span style=\"color:#33cc33\">Correct</span>"
      ],
      "text/plain": [
       "Correct"
      ]
     },
     "metadata": {},
     "output_type": "display_data"
    }
   ],
   "source": [
    "# TODO: Complete the function\n",
    "def get_expected_cost(beds, baths):\n",
    "    value = 80000 + beds * 30000 + baths * 10000    \n",
    "    return value\n",
    "\n",
    "# Check your answer \n",
    "q1.check()"
   ]
  },
  {
   "cell_type": "code",
   "execution_count": 3,
   "id": "36dce461",
   "metadata": {
    "execution": {
     "iopub.execute_input": "2024-01-10T09:21:11.849506Z",
     "iopub.status.busy": "2024-01-10T09:21:11.849109Z",
     "iopub.status.idle": "2024-01-10T09:21:11.862207Z",
     "shell.execute_reply": "2024-01-10T09:21:11.861433Z"
    },
    "papermill": {
     "duration": 0.025246,
     "end_time": "2024-01-10T09:21:11.864377",
     "exception": false,
     "start_time": "2024-01-10T09:21:11.839131",
     "status": "completed"
    },
    "tags": []
   },
   "outputs": [
    {
     "data": {
      "application/javascript": [
       "parent.postMessage({\"jupyterEvent\": \"custom.exercise_interaction\", \"data\": {\"interactionType\": 2, \"questionType\": 2, \"questionId\": \"1_GetExpectedCost\", \"learnToolsVersion\": \"0.3.4\", \"valueTowardsCompletion\": 0.0, \"failureMessage\": \"\", \"exceptionClass\": \"\", \"trace\": \"\", \"outcomeType\": 4}}, \"*\")"
      ],
      "text/plain": [
       "<IPython.core.display.Javascript object>"
      ]
     },
     "metadata": {},
     "output_type": "display_data"
    },
    {
     "data": {
      "text/markdown": [
       "<span style=\"color:#3366cc\">Hint:</span> The value should be the base cost (`80000`), plus the total cost of the bedrooms (`30000 * beds`), plus the total cost of the bathrooms (`10000 * baths`)."
      ],
      "text/plain": [
       "Hint: The value should be the base cost (`80000`), plus the total cost of the bedrooms (`30000 * beds`), plus the total cost of the bathrooms (`10000 * baths`)."
      ]
     },
     "metadata": {},
     "output_type": "display_data"
    },
    {
     "data": {
      "application/javascript": [
       "parent.postMessage({\"jupyterEvent\": \"custom.exercise_interaction\", \"data\": {\"interactionType\": 3, \"questionType\": 2, \"questionId\": \"1_GetExpectedCost\", \"learnToolsVersion\": \"0.3.4\", \"valueTowardsCompletion\": 0.0, \"failureMessage\": \"\", \"exceptionClass\": \"\", \"trace\": \"\", \"outcomeType\": 4}}, \"*\")"
      ],
      "text/plain": [
       "<IPython.core.display.Javascript object>"
      ]
     },
     "metadata": {},
     "output_type": "display_data"
    },
    {
     "data": {
      "text/markdown": [
       "<span style=\"color:#33cc99\">Solution:</span> \n",
       "```python\n",
       "\n",
       "def get_expected_cost(beds, baths):\n",
       "    value = 80000 + 30000 * beds + 10000 * baths\n",
       "    return value\n",
       "\n",
       "```"
      ],
      "text/plain": [
       "Solution: \n",
       "```python\n",
       "\n",
       "def get_expected_cost(beds, baths):\n",
       "    value = 80000 + 30000 * beds + 10000 * baths\n",
       "    return value\n",
       "\n",
       "```"
      ]
     },
     "metadata": {},
     "output_type": "display_data"
    }
   ],
   "source": [
    "# Uncomment to see a hint\n",
    "q1.hint()\n",
    "\n",
    "# Uncomment to view the solution\n",
    "q1.solution()"
   ]
  },
  {
   "cell_type": "markdown",
   "id": "1cc5028e",
   "metadata": {
    "papermill": {
     "duration": 0.009229,
     "end_time": "2024-01-10T09:21:11.883319",
     "exception": false,
     "start_time": "2024-01-10T09:21:11.874090",
     "status": "completed"
    },
    "tags": []
   },
   "source": [
    "# Question 2\n",
    "\n",
    "You are thinking about buying a home and want to get an idea of how much you will spend, based on the number of bedrooms and bathrooms.  You are trying to decide between four different options:\n",
    "- Option 1: house with two bedrooms and three bathrooms\n",
    "- Option 2: house with three bedrooms and two bathrooms\n",
    "- Option 3: house with three bedrooms and three bathrooms\n",
    "- Option 4: house with three bedrooms and four bathrooms\n",
    "\n",
    "Use the `get_expected_cost()` function you defined in question 1 to set `option_1`, `option_2`, `option_3`, and `option_4` to the expected cost of each option."
   ]
  },
  {
   "cell_type": "code",
   "execution_count": 4,
   "id": "fac7eedc",
   "metadata": {
    "execution": {
     "iopub.execute_input": "2024-01-10T09:21:11.904270Z",
     "iopub.status.busy": "2024-01-10T09:21:11.903357Z",
     "iopub.status.idle": "2024-01-10T09:21:11.914701Z",
     "shell.execute_reply": "2024-01-10T09:21:11.913619Z"
    },
    "papermill": {
     "duration": 0.024462,
     "end_time": "2024-01-10T09:21:11.917089",
     "exception": false,
     "start_time": "2024-01-10T09:21:11.892627",
     "status": "completed"
    },
    "tags": []
   },
   "outputs": [
    {
     "name": "stdout",
     "output_type": "stream",
     "text": [
      "170000\n",
      "190000\n",
      "200000\n",
      "210000\n"
     ]
    },
    {
     "data": {
      "application/javascript": [
       "parent.postMessage({\"jupyterEvent\": \"custom.exercise_interaction\", \"data\": {\"outcomeType\": 1, \"valueTowardsCompletion\": 0.2, \"interactionType\": 1, \"questionType\": 1, \"questionId\": \"2_RunGetExpectedCost\", \"learnToolsVersion\": \"0.3.4\", \"failureMessage\": \"\", \"exceptionClass\": \"\", \"trace\": \"\"}}, \"*\")"
      ],
      "text/plain": [
       "<IPython.core.display.Javascript object>"
      ]
     },
     "metadata": {},
     "output_type": "display_data"
    },
    {
     "data": {
      "text/markdown": [
       "<span style=\"color:#33cc33\">Correct</span>"
      ],
      "text/plain": [
       "Correct"
      ]
     },
     "metadata": {},
     "output_type": "display_data"
    }
   ],
   "source": [
    "# TODO: Use the get_expected_cost function to fill in each value\n",
    "option_one = 80000 + 2 * 30000 + 3 * 10000    \n",
    "option_two = 80000 + 3 * 30000 + 2 * 10000 \n",
    "option_three = 80000 + 3 * 30000 + 3 * 10000 \n",
    "option_four = 80000 + 3 * 30000 + 4 * 10000 \n",
    "\n",
    "print(option_one)\n",
    "print(option_two)\n",
    "print(option_three)\n",
    "print(option_four)\n",
    "\n",
    "# Check your answer\n",
    "q2.check()"
   ]
  },
  {
   "cell_type": "code",
   "execution_count": 5,
   "id": "1be16bdd",
   "metadata": {
    "execution": {
     "iopub.execute_input": "2024-01-10T09:21:11.938304Z",
     "iopub.status.busy": "2024-01-10T09:21:11.937917Z",
     "iopub.status.idle": "2024-01-10T09:21:11.942670Z",
     "shell.execute_reply": "2024-01-10T09:21:11.941608Z"
    },
    "papermill": {
     "duration": 0.018545,
     "end_time": "2024-01-10T09:21:11.945230",
     "exception": false,
     "start_time": "2024-01-10T09:21:11.926685",
     "status": "completed"
    },
    "tags": []
   },
   "outputs": [],
   "source": [
    "# Uncomment to see a hint\n",
    "#q2.hint()\n",
    "\n",
    "# Uncomment to view the solution\n",
    "#q2.solution()"
   ]
  },
  {
   "cell_type": "markdown",
   "id": "5d1c9fae",
   "metadata": {
    "papermill": {
     "duration": 0.009252,
     "end_time": "2024-01-10T09:21:11.964473",
     "exception": false,
     "start_time": "2024-01-10T09:21:11.955221",
     "status": "completed"
    },
    "tags": []
   },
   "source": [
    "# Question 3\n",
    "\n",
    "You're a home decorator, and you'd like to use Python to streamline some of your work.  Specifically, you're creating a tool that you intend to use to calculate the cost of painting a room.\n",
    "\n",
    "As a first step, define a function `get_cost()` that takes as input:\n",
    "- `sqft_walls` = total square feet of walls to be painted\n",
    "- `sqft_ceiling` = square feet of ceiling to be painted\n",
    "- `sqft_per_gallon` = number of square feet that you can cover with one gallon of paint\n",
    "- `cost_per_gallon` = cost (in dollars) of one gallon of paint\n",
    "\n",
    "It should return the cost (in dollars) of putting one coat of paint on all walls and the ceiling.  Assume you can buy the exact amount of paint that you need, so you can buy partial gallons (e.g., if you need 7.523 gallons, you can buy that exact amount, instead of needing to buy 8 gallons and waste some paint).  Do not round your answer."
   ]
  },
  {
   "cell_type": "code",
   "execution_count": 6,
   "id": "f037fd54",
   "metadata": {
    "execution": {
     "iopub.execute_input": "2024-01-10T09:21:11.985566Z",
     "iopub.status.busy": "2024-01-10T09:21:11.985125Z",
     "iopub.status.idle": "2024-01-10T09:21:11.993572Z",
     "shell.execute_reply": "2024-01-10T09:21:11.992765Z"
    },
    "papermill": {
     "duration": 0.022016,
     "end_time": "2024-01-10T09:21:11.996092",
     "exception": false,
     "start_time": "2024-01-10T09:21:11.974076",
     "status": "completed"
    },
    "tags": []
   },
   "outputs": [
    {
     "data": {
      "application/javascript": [
       "parent.postMessage({\"jupyterEvent\": \"custom.exercise_interaction\", \"data\": {\"outcomeType\": 1, \"valueTowardsCompletion\": 0.2, \"interactionType\": 1, \"questionType\": 2, \"questionId\": \"3_GetCostPaint\", \"learnToolsVersion\": \"0.3.4\", \"failureMessage\": \"\", \"exceptionClass\": \"\", \"trace\": \"\"}}, \"*\")"
      ],
      "text/plain": [
       "<IPython.core.display.Javascript object>"
      ]
     },
     "metadata": {},
     "output_type": "display_data"
    },
    {
     "data": {
      "text/markdown": [
       "<span style=\"color:#33cc33\">Correct</span>"
      ],
      "text/plain": [
       "Correct"
      ]
     },
     "metadata": {},
     "output_type": "display_data"
    }
   ],
   "source": [
    "# TODO: Finish defining the function\n",
    "def get_cost(sqft_walls, sqft_ceiling, sqft_per_gallon, cost_per_gallon):\n",
    "    cost = ((sqft_walls + sqft_ceiling)/sqft_per_gallon)*cost_per_gallon\n",
    "    return cost\n",
    "\n",
    "# Check your answer\n",
    "q3.check()"
   ]
  },
  {
   "cell_type": "code",
   "execution_count": 7,
   "id": "642ca402",
   "metadata": {
    "execution": {
     "iopub.execute_input": "2024-01-10T09:21:12.018767Z",
     "iopub.status.busy": "2024-01-10T09:21:12.017620Z",
     "iopub.status.idle": "2024-01-10T09:21:12.024139Z",
     "shell.execute_reply": "2024-01-10T09:21:12.022586Z"
    },
    "papermill": {
     "duration": 0.020222,
     "end_time": "2024-01-10T09:21:12.026683",
     "exception": false,
     "start_time": "2024-01-10T09:21:12.006461",
     "status": "completed"
    },
    "tags": []
   },
   "outputs": [],
   "source": [
    "# Uncomment to see a hint\n",
    "#q3.hint()\n",
    "\n",
    "# Uncomment to view the solution\n",
    "#q3.solution()"
   ]
  },
  {
   "cell_type": "markdown",
   "id": "f7cba03d",
   "metadata": {
    "papermill": {
     "duration": 0.009687,
     "end_time": "2024-01-10T09:21:12.046585",
     "exception": false,
     "start_time": "2024-01-10T09:21:12.036898",
     "status": "completed"
    },
    "tags": []
   },
   "source": [
    "# Question 4\n",
    "\n",
    "Use the `get_cost()` function you defined in Question 3 to calculate the cost of applying one coat of paint to a room with:\n",
    "- 432 square feet of walls, and\n",
    "- 144 square feet of ceiling.\n",
    "\n",
    "Assume that one gallon of paint covers 400 square feet and costs $15.  As in Question 3, assume you can buy partial gallons of paint.  Do not round your answer."
   ]
  },
  {
   "cell_type": "code",
   "execution_count": 8,
   "id": "68639104",
   "metadata": {
    "execution": {
     "iopub.execute_input": "2024-01-10T09:21:12.068874Z",
     "iopub.status.busy": "2024-01-10T09:21:12.068421Z",
     "iopub.status.idle": "2024-01-10T09:21:12.077212Z",
     "shell.execute_reply": "2024-01-10T09:21:12.076393Z"
    },
    "papermill": {
     "duration": 0.022401,
     "end_time": "2024-01-10T09:21:12.079264",
     "exception": false,
     "start_time": "2024-01-10T09:21:12.056863",
     "status": "completed"
    },
    "tags": []
   },
   "outputs": [
    {
     "data": {
      "application/javascript": [
       "parent.postMessage({\"jupyterEvent\": \"custom.exercise_interaction\", \"data\": {\"outcomeType\": 1, \"valueTowardsCompletion\": 0.2, \"interactionType\": 1, \"questionType\": 1, \"questionId\": \"4_GetCostPaintExample\", \"learnToolsVersion\": \"0.3.4\", \"failureMessage\": \"\", \"exceptionClass\": \"\", \"trace\": \"\"}}, \"*\")"
      ],
      "text/plain": [
       "<IPython.core.display.Javascript object>"
      ]
     },
     "metadata": {},
     "output_type": "display_data"
    },
    {
     "data": {
      "text/markdown": [
       "<span style=\"color:#33cc33\">Correct</span>"
      ],
      "text/plain": [
       "Correct"
      ]
     },
     "metadata": {},
     "output_type": "display_data"
    }
   ],
   "source": [
    "# TODO: Set the project_cost variable to the cost of the project\n",
    "project_cost = get_cost(432, 144, 400, 15)\n",
    "\n",
    "# Check your answer\n",
    "q4.check()"
   ]
  },
  {
   "cell_type": "code",
   "execution_count": 9,
   "id": "d7be6359",
   "metadata": {
    "execution": {
     "iopub.execute_input": "2024-01-10T09:21:12.102515Z",
     "iopub.status.busy": "2024-01-10T09:21:12.102102Z",
     "iopub.status.idle": "2024-01-10T09:21:12.107048Z",
     "shell.execute_reply": "2024-01-10T09:21:12.105791Z"
    },
    "papermill": {
     "duration": 0.0197,
     "end_time": "2024-01-10T09:21:12.109342",
     "exception": false,
     "start_time": "2024-01-10T09:21:12.089642",
     "status": "completed"
    },
    "tags": []
   },
   "outputs": [],
   "source": [
    "# Uncomment to see a hint\n",
    "#q4.hint()\n",
    "\n",
    "# Uncomment to view the solution\n",
    "#q4.solution()"
   ]
  },
  {
   "cell_type": "markdown",
   "id": "fcfe5ec6",
   "metadata": {
    "papermill": {
     "duration": 0.010017,
     "end_time": "2024-01-10T09:21:12.129727",
     "exception": false,
     "start_time": "2024-01-10T09:21:12.119710",
     "status": "completed"
    },
    "tags": []
   },
   "source": [
    "# 🌶️ Question 5\n",
    "\n",
    "Now say you can no longer buy fractions of a gallon.  (For instance, if you need 4.3 gallons to do a project, then you have to buy 5 gallons of paint.)\n",
    "\n",
    "With this new scenario, you will create a new function `get_actual_cost` that uses the same inputs and calculates the cost of your project.\n",
    "\n",
    "One function that you'll need to use to do this is `math.ceil()`.  We demonstrate usage of this function in the code cell below.  It takes as a number as input and rounds the number up to the nearest integer.  \n",
    "\n",
    "Run the next code cell to test this function for yourself.  Feel free to change the value of `test_value` and make sure `math.ceil()` returns the number you expect."
   ]
  },
  {
   "cell_type": "code",
   "execution_count": 10,
   "id": "f0a3d32d",
   "metadata": {
    "execution": {
     "iopub.execute_input": "2024-01-10T09:21:12.152326Z",
     "iopub.status.busy": "2024-01-10T09:21:12.151875Z",
     "iopub.status.idle": "2024-01-10T09:21:12.157627Z",
     "shell.execute_reply": "2024-01-10T09:21:12.156557Z"
    },
    "papermill": {
     "duration": 0.019859,
     "end_time": "2024-01-10T09:21:12.160012",
     "exception": false,
     "start_time": "2024-01-10T09:21:12.140153",
     "status": "completed"
    },
    "tags": []
   },
   "outputs": [
    {
     "name": "stdout",
     "output_type": "stream",
     "text": [
      "3\n"
     ]
    }
   ],
   "source": [
    "test_value = 2.17\n",
    "\n",
    "rounded_value = math.ceil(test_value)\n",
    "print(rounded_value)"
   ]
  },
  {
   "cell_type": "markdown",
   "id": "7d7c15f7",
   "metadata": {
    "papermill": {
     "duration": 0.010517,
     "end_time": "2024-01-10T09:21:12.180802",
     "exception": false,
     "start_time": "2024-01-10T09:21:12.170285",
     "status": "completed"
    },
    "tags": []
   },
   "source": [
    "Use the next code cell to define the function `get_actual_cost()`.  You'll need to use the `math.ceil()` function to do this.\n",
    "\n",
    "When answering this question, note that it's completely valid to define a function that makes use of another function.  For instance, we can define a function `round_up_and_divide_by_three` that makes use of the `math.ceil` function:\n",
    "```\n",
    "def round_up_and_divide_by_three(num):\n",
    "    new_value = math.ceil(num)\n",
    "    final_value = new_value / 3\n",
    "    return final_value\n",
    "```"
   ]
  },
  {
   "cell_type": "code",
   "execution_count": 11,
   "id": "e1fa9f47",
   "metadata": {
    "execution": {
     "iopub.execute_input": "2024-01-10T09:21:12.203787Z",
     "iopub.status.busy": "2024-01-10T09:21:12.203300Z",
     "iopub.status.idle": "2024-01-10T09:21:12.212615Z",
     "shell.execute_reply": "2024-01-10T09:21:12.211830Z"
    },
    "papermill": {
     "duration": 0.023713,
     "end_time": "2024-01-10T09:21:12.215139",
     "exception": false,
     "start_time": "2024-01-10T09:21:12.191426",
     "status": "completed"
    },
    "tags": []
   },
   "outputs": [
    {
     "data": {
      "application/javascript": [
       "parent.postMessage({\"jupyterEvent\": \"custom.exercise_interaction\", \"data\": {\"outcomeType\": 1, \"valueTowardsCompletion\": 0.2, \"interactionType\": 1, \"questionType\": 2, \"questionId\": \"5_NoMoreFractions\", \"learnToolsVersion\": \"0.3.4\", \"failureMessage\": \"\", \"exceptionClass\": \"\", \"trace\": \"\"}}, \"*\")"
      ],
      "text/plain": [
       "<IPython.core.display.Javascript object>"
      ]
     },
     "metadata": {},
     "output_type": "display_data"
    },
    {
     "data": {
      "text/markdown": [
       "<span style=\"color:#33cc33\">Correct</span>"
      ],
      "text/plain": [
       "Correct"
      ]
     },
     "metadata": {},
     "output_type": "display_data"
    }
   ],
   "source": [
    "def get_actual_cost(sqft_walls, sqft_ceiling, sqft_per_gallon, cost_per_gallon):\n",
    "    gallons_ceil=math.ceil((sqft_walls + sqft_ceiling)/sqft_per_gallon)\n",
    "    cost = gallons_ceil * cost_per_gallon\n",
    "    return cost\n",
    "\n",
    "# Check your answer\n",
    "q5.check()"
   ]
  },
  {
   "cell_type": "code",
   "execution_count": 12,
   "id": "cd8246ba",
   "metadata": {
    "execution": {
     "iopub.execute_input": "2024-01-10T09:21:12.239070Z",
     "iopub.status.busy": "2024-01-10T09:21:12.238678Z",
     "iopub.status.idle": "2024-01-10T09:21:12.252745Z",
     "shell.execute_reply": "2024-01-10T09:21:12.251771Z"
    },
    "papermill": {
     "duration": 0.028645,
     "end_time": "2024-01-10T09:21:12.254996",
     "exception": false,
     "start_time": "2024-01-10T09:21:12.226351",
     "status": "completed"
    },
    "tags": []
   },
   "outputs": [
    {
     "data": {
      "application/javascript": [
       "parent.postMessage({\"jupyterEvent\": \"custom.exercise_interaction\", \"data\": {\"interactionType\": 2, \"questionType\": 2, \"questionId\": \"5_NoMoreFractions\", \"learnToolsVersion\": \"0.3.4\", \"valueTowardsCompletion\": 0.0, \"failureMessage\": \"\", \"exceptionClass\": \"\", \"trace\": \"\", \"outcomeType\": 4}}, \"*\")"
      ],
      "text/plain": [
       "<IPython.core.display.Javascript object>"
      ]
     },
     "metadata": {},
     "output_type": "display_data"
    },
    {
     "data": {
      "text/markdown": [
       "<span style=\"color:#3366cc\">Hint:</span> Begin with the `get_cost()` function as a starting point.  The only change you need to make is to add `math.ceil()` to round up the number of gallons that need to be purchased. Can you figure out where to add it to the function?"
      ],
      "text/plain": [
       "Hint: Begin with the `get_cost()` function as a starting point.  The only change you need to make is to add `math.ceil()` to round up the number of gallons that need to be purchased. Can you figure out where to add it to the function?"
      ]
     },
     "metadata": {},
     "output_type": "display_data"
    },
    {
     "data": {
      "application/javascript": [
       "parent.postMessage({\"jupyterEvent\": \"custom.exercise_interaction\", \"data\": {\"interactionType\": 3, \"questionType\": 2, \"questionId\": \"5_NoMoreFractions\", \"learnToolsVersion\": \"0.3.4\", \"valueTowardsCompletion\": 0.0, \"failureMessage\": \"\", \"exceptionClass\": \"\", \"trace\": \"\", \"outcomeType\": 4}}, \"*\")"
      ],
      "text/plain": [
       "<IPython.core.display.Javascript object>"
      ]
     },
     "metadata": {},
     "output_type": "display_data"
    },
    {
     "data": {
      "text/markdown": [
       "<span style=\"color:#33cc99\">Solution:</span> \n",
       "```python\n",
       "def get_actual_cost(sqft_walls, sqft_ceiling, sqft_per_gallon, cost_per_gallon):\n",
       "    total_sqft = sqft_walls + sqft_ceiling\n",
       "    gallons_needed = total_sqft / sqft_per_gallon\n",
       "    gallons_to_buy = math.ceil(gallons_needed)\n",
       "    cost = cost_per_gallon * gallons_to_buy\n",
       "    return cost\n",
       "\n",
       "```"
      ],
      "text/plain": [
       "Solution: \n",
       "```python\n",
       "def get_actual_cost(sqft_walls, sqft_ceiling, sqft_per_gallon, cost_per_gallon):\n",
       "    total_sqft = sqft_walls + sqft_ceiling\n",
       "    gallons_needed = total_sqft / sqft_per_gallon\n",
       "    gallons_to_buy = math.ceil(gallons_needed)\n",
       "    cost = cost_per_gallon * gallons_to_buy\n",
       "    return cost\n",
       "\n",
       "```"
      ]
     },
     "metadata": {},
     "output_type": "display_data"
    }
   ],
   "source": [
    "# Uncomment to see a hint\n",
    "q5.hint()\n",
    "\n",
    "# Uncomment to view the solution\n",
    "q5.solution()"
   ]
  },
  {
   "cell_type": "markdown",
   "id": "4ae516de",
   "metadata": {
    "papermill": {
     "duration": 0.011218,
     "end_time": "2024-01-10T09:21:12.277428",
     "exception": false,
     "start_time": "2024-01-10T09:21:12.266210",
     "status": "completed"
    },
    "tags": []
   },
   "source": [
    "Once your function is verified as correct, run the next code cell to calculate the updated cost of your project."
   ]
  },
  {
   "cell_type": "code",
   "execution_count": 13,
   "id": "dc2bd1ec",
   "metadata": {
    "execution": {
     "iopub.execute_input": "2024-01-10T09:21:12.302489Z",
     "iopub.status.busy": "2024-01-10T09:21:12.301652Z",
     "iopub.status.idle": "2024-01-10T09:21:12.309152Z",
     "shell.execute_reply": "2024-01-10T09:21:12.307936Z"
    },
    "papermill": {
     "duration": 0.022572,
     "end_time": "2024-01-10T09:21:12.311427",
     "exception": false,
     "start_time": "2024-01-10T09:21:12.288855",
     "status": "completed"
    },
    "tags": []
   },
   "outputs": [
    {
     "data": {
      "text/plain": [
       "30"
      ]
     },
     "execution_count": 13,
     "metadata": {},
     "output_type": "execute_result"
    }
   ],
   "source": [
    "get_actual_cost(432, 144, 400, 15) "
   ]
  },
  {
   "cell_type": "markdown",
   "id": "c3af3089",
   "metadata": {
    "papermill": {
     "duration": 0.011216,
     "end_time": "2024-01-10T09:21:12.334154",
     "exception": false,
     "start_time": "2024-01-10T09:21:12.322938",
     "status": "completed"
    },
    "tags": []
   },
   "source": [
    "Say you're working with a slightly larger room.  Run the next code cell to calculate the cost of the project."
   ]
  },
  {
   "cell_type": "code",
   "execution_count": 14,
   "id": "ea14a9c4",
   "metadata": {
    "execution": {
     "iopub.execute_input": "2024-01-10T09:21:12.359052Z",
     "iopub.status.busy": "2024-01-10T09:21:12.358678Z",
     "iopub.status.idle": "2024-01-10T09:21:12.364777Z",
     "shell.execute_reply": "2024-01-10T09:21:12.363820Z"
    },
    "papermill": {
     "duration": 0.02161,
     "end_time": "2024-01-10T09:21:12.367117",
     "exception": false,
     "start_time": "2024-01-10T09:21:12.345507",
     "status": "completed"
    },
    "tags": []
   },
   "outputs": [
    {
     "data": {
      "text/plain": [
       "45"
      ]
     },
     "execution_count": 14,
     "metadata": {},
     "output_type": "execute_result"
    }
   ],
   "source": [
    "get_actual_cost(594, 288, 400, 15) "
   ]
  },
  {
   "cell_type": "markdown",
   "id": "5ac10d20",
   "metadata": {
    "papermill": {
     "duration": 0.01136,
     "end_time": "2024-01-10T09:21:12.390514",
     "exception": false,
     "start_time": "2024-01-10T09:21:12.379154",
     "status": "completed"
    },
    "tags": []
   },
   "source": [
    "# Keep going\n",
    "\n",
    "Continue to learn about **[data types](https://www.kaggle.com/alexisbcook/data-types)**."
   ]
  },
  {
   "cell_type": "markdown",
   "id": "cb46a9c7",
   "metadata": {
    "papermill": {
     "duration": 0.01137,
     "end_time": "2024-01-10T09:21:12.413498",
     "exception": false,
     "start_time": "2024-01-10T09:21:12.402128",
     "status": "completed"
    },
    "tags": []
   },
   "source": [
    "---\n",
    "\n",
    "\n",
    "\n",
    "\n",
    "*Have questions or comments? Visit the [course discussion forum](https://www.kaggle.com/learn/intro-to-programming/discussion) to chat with other learners.*"
   ]
  }
 ],
 "metadata": {
  "kaggle": {
   "accelerator": "none",
   "dataSources": [],
   "isGpuEnabled": false,
   "isInternetEnabled": false,
   "language": "python",
   "sourceType": "notebook"
  },
  "kernelspec": {
   "display_name": "Python 3",
   "language": "python",
   "name": "python3"
  },
  "language_info": {
   "codemirror_mode": {
    "name": "ipython",
    "version": 3
   },
   "file_extension": ".py",
   "mimetype": "text/x-python",
   "name": "python",
   "nbconvert_exporter": "python",
   "pygments_lexer": "ipython3",
   "version": "3.10.12"
  },
  "papermill": {
   "default_parameters": {},
   "duration": 5.17362,
   "end_time": "2024-01-10T09:21:12.946868",
   "environment_variables": {},
   "exception": null,
   "input_path": "__notebook__.ipynb",
   "output_path": "__notebook__.ipynb",
   "parameters": {},
   "start_time": "2024-01-10T09:21:07.773248",
   "version": "2.4.0"
  }
 },
 "nbformat": 4,
 "nbformat_minor": 5
}
